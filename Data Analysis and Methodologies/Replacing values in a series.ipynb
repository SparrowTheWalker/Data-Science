{
 "cells": [
  {
   "cell_type": "code",
   "execution_count": 3,
   "id": "d5659000",
   "metadata": {},
   "outputs": [],
   "source": [
    "import numpy as np\n",
    "import pandas as pd\n",
    "from pandas import DataFrame, Series"
   ]
  },
  {
   "cell_type": "code",
   "execution_count": 4,
   "id": "202b28f0",
   "metadata": {},
   "outputs": [
    {
     "name": "stdout",
     "output_type": "stream",
     "text": [
      "0    10\n",
      "1    20\n",
      "2    40\n",
      "3    50\n",
      "4    20\n",
      "5    10\n",
      "6    50\n",
      "7    40\n",
      "dtype: int64\n"
     ]
    }
   ],
   "source": [
    "s1 = Series([10, 20,40,50,20,10,50,40])\n",
    "print(s1)"
   ]
  },
  {
   "cell_type": "code",
   "execution_count": 6,
   "id": "848e7f0f",
   "metadata": {},
   "outputs": [
    {
     "data": {
      "text/plain": [
       "0     NaN\n",
       "1    20.0\n",
       "2    40.0\n",
       "3    50.0\n",
       "4    20.0\n",
       "5     NaN\n",
       "6    50.0\n",
       "7    40.0\n",
       "dtype: float64"
      ]
     },
     "execution_count": 6,
     "metadata": {},
     "output_type": "execute_result"
    }
   ],
   "source": [
    "s1.replace(10,np.nan)"
   ]
  },
  {
   "cell_type": "code",
   "execution_count": 7,
   "id": "1c5a088f",
   "metadata": {},
   "outputs": [
    {
     "data": {
      "text/plain": [
       "0    100\n",
       "1    200\n",
       "2    400\n",
       "3     50\n",
       "4    200\n",
       "5    100\n",
       "6     50\n",
       "7    400\n",
       "dtype: int64"
      ]
     },
     "execution_count": 7,
     "metadata": {},
     "output_type": "execute_result"
    }
   ],
   "source": [
    "s1.replace([10,20,40],[100,200,400])"
   ]
  },
  {
   "cell_type": "code",
   "execution_count": 8,
   "id": "bf685275",
   "metadata": {},
   "outputs": [
    {
     "name": "stdout",
     "output_type": "stream",
     "text": [
      "0    10\n",
      "1    20\n",
      "2    40\n",
      "3    50\n",
      "4    20\n",
      "5    10\n",
      "6    50\n",
      "7    40\n",
      "dtype: int64\n"
     ]
    }
   ],
   "source": [
    "print(s1)"
   ]
  },
  {
   "cell_type": "code",
   "execution_count": 9,
   "id": "abfb05ec",
   "metadata": {},
   "outputs": [
    {
     "data": {
      "text/plain": [
       "0    100.0\n",
       "1      NaN\n",
       "2    400.0\n",
       "3     50.0\n",
       "4      NaN\n",
       "5    100.0\n",
       "6     50.0\n",
       "7    400.0\n",
       "dtype: float64"
      ]
     },
     "execution_count": 9,
     "metadata": {},
     "output_type": "execute_result"
    }
   ],
   "source": [
    "s1.replace({10:100, 20:np.nan,40:400})"
   ]
  },
  {
   "cell_type": "code",
   "execution_count": null,
   "id": "6ce27f76",
   "metadata": {},
   "outputs": [],
   "source": []
  }
 ],
 "metadata": {
  "kernelspec": {
   "display_name": "Python 3 (ipykernel)",
   "language": "python",
   "name": "python3"
  },
  "language_info": {
   "codemirror_mode": {
    "name": "ipython",
    "version": 3
   },
   "file_extension": ".py",
   "mimetype": "text/x-python",
   "name": "python",
   "nbconvert_exporter": "python",
   "pygments_lexer": "ipython3",
   "version": "3.9.12"
  }
 },
 "nbformat": 4,
 "nbformat_minor": 5
}
