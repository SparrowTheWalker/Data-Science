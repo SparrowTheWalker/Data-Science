{
 "cells": [
  {
   "cell_type": "code",
   "execution_count": 1,
   "id": "83dde7ee",
   "metadata": {},
   "outputs": [],
   "source": [
    "import numpy as np\n",
    "import pandas as pd\n",
    "from pandas import Series,DataFrame"
   ]
  },
  {
   "cell_type": "code",
   "execution_count": 3,
   "id": "d8e103b9",
   "metadata": {},
   "outputs": [
    {
     "name": "stdout",
     "output_type": "stream",
     "text": [
      "[[ 0  1  2  3  4]\n",
      " [ 5  6  7  8  9]\n",
      " [10 11 12 13 14]\n",
      " [15 16 17 18 19]\n",
      " [20 21 22 23 24]]\n",
      "[[-0.11541322  1.93174639 -1.46867815  0.14091262 -1.03039687]\n",
      " [-0.29951717 -0.06711707  1.09493619 -0.89382752  0.50939873]\n",
      " [ 0.4147568   1.51391426  0.77600308  0.09857495  1.63587227]\n",
      " [ 1.30510559 -0.00204826  0.46952267  0.62317868 -0.32998791]\n",
      " [-1.05391556 -0.76140403  1.03771397 -0.47649002  1.47746562]]\n"
     ]
    }
   ],
   "source": [
    "#Concatenation of Numpy arrays\n",
    "A1 = np.arange(25).reshape(5,5)\n",
    "B1 = np.random.randn(25).reshape(5,5)\n",
    "print(A1)\n",
    "print(B1)"
   ]
  },
  {
   "cell_type": "code",
   "execution_count": 16,
   "id": "5e733887",
   "metadata": {},
   "outputs": [
    {
     "data": {
      "text/plain": [
       "array([[ 0.00000000e+00,  1.00000000e+00,  2.00000000e+00,\n",
       "         3.00000000e+00,  4.00000000e+00, -1.15413221e-01,\n",
       "         1.93174639e+00, -1.46867815e+00,  1.40912623e-01,\n",
       "        -1.03039687e+00],\n",
       "       [ 5.00000000e+00,  6.00000000e+00,  7.00000000e+00,\n",
       "         8.00000000e+00,  9.00000000e+00, -2.99517173e-01,\n",
       "        -6.71170685e-02,  1.09493619e+00, -8.93827525e-01,\n",
       "         5.09398734e-01],\n",
       "       [ 1.00000000e+01,  1.10000000e+01,  1.20000000e+01,\n",
       "         1.30000000e+01,  1.40000000e+01,  4.14756798e-01,\n",
       "         1.51391426e+00,  7.76003082e-01,  9.85749540e-02,\n",
       "         1.63587227e+00],\n",
       "       [ 1.50000000e+01,  1.60000000e+01,  1.70000000e+01,\n",
       "         1.80000000e+01,  1.90000000e+01,  1.30510559e+00,\n",
       "        -2.04826052e-03,  4.69522667e-01,  6.23178675e-01,\n",
       "        -3.29987910e-01],\n",
       "       [ 2.00000000e+01,  2.10000000e+01,  2.20000000e+01,\n",
       "         2.30000000e+01,  2.40000000e+01, -1.05391556e+00,\n",
       "        -7.61404025e-01,  1.03771397e+00, -4.76490022e-01,\n",
       "         1.47746562e+00]])"
      ]
     },
     "execution_count": 16,
     "metadata": {},
     "output_type": "execute_result"
    }
   ],
   "source": [
    "np.concatenate([A1,B1],axis=1)"
   ]
  },
  {
   "cell_type": "code",
   "execution_count": 7,
   "id": "e077b611",
   "metadata": {},
   "outputs": [
    {
     "data": {
      "text/plain": [
       "array([[ 0.00000000e+00,  1.00000000e+00,  2.00000000e+00,\n",
       "         3.00000000e+00,  4.00000000e+00],\n",
       "       [ 5.00000000e+00,  6.00000000e+00,  7.00000000e+00,\n",
       "         8.00000000e+00,  9.00000000e+00],\n",
       "       [ 1.00000000e+01,  1.10000000e+01,  1.20000000e+01,\n",
       "         1.30000000e+01,  1.40000000e+01],\n",
       "       [ 1.50000000e+01,  1.60000000e+01,  1.70000000e+01,\n",
       "         1.80000000e+01,  1.90000000e+01],\n",
       "       [ 2.00000000e+01,  2.10000000e+01,  2.20000000e+01,\n",
       "         2.30000000e+01,  2.40000000e+01],\n",
       "       [-1.15413221e-01,  1.93174639e+00, -1.46867815e+00,\n",
       "         1.40912623e-01, -1.03039687e+00],\n",
       "       [-2.99517173e-01, -6.71170685e-02,  1.09493619e+00,\n",
       "        -8.93827525e-01,  5.09398734e-01],\n",
       "       [ 4.14756798e-01,  1.51391426e+00,  7.76003082e-01,\n",
       "         9.85749540e-02,  1.63587227e+00],\n",
       "       [ 1.30510559e+00, -2.04826052e-03,  4.69522667e-01,\n",
       "         6.23178675e-01, -3.29987910e-01],\n",
       "       [-1.05391556e+00, -7.61404025e-01,  1.03771397e+00,\n",
       "        -4.76490022e-01,  1.47746562e+00]])"
      ]
     },
     "execution_count": 7,
     "metadata": {},
     "output_type": "execute_result"
    }
   ],
   "source": [
    "np.concatenate([A1,B1])"
   ]
  },
  {
   "cell_type": "code",
   "execution_count": 8,
   "id": "01047632",
   "metadata": {},
   "outputs": [
    {
     "name": "stdout",
     "output_type": "stream",
     "text": [
      "A    100\n",
      "B    200\n",
      "C    300\n",
      "dtype: int64\n",
      "D    400\n",
      "E    500\n",
      "dtype: int64\n"
     ]
    }
   ],
   "source": [
    "#Concatenation of Pandas Series\n",
    "s1 = Series([100,200,300], index=list('ABC'))\n",
    "s2 = Series([400,500], index=list('DE'))\n",
    "print(s1)\n",
    "print(s2)"
   ]
  },
  {
   "cell_type": "code",
   "execution_count": 12,
   "id": "4b556664",
   "metadata": {},
   "outputs": [
    {
     "data": {
      "text/html": [
       "<div>\n",
       "<style scoped>\n",
       "    .dataframe tbody tr th:only-of-type {\n",
       "        vertical-align: middle;\n",
       "    }\n",
       "\n",
       "    .dataframe tbody tr th {\n",
       "        vertical-align: top;\n",
       "    }\n",
       "\n",
       "    .dataframe thead th {\n",
       "        text-align: right;\n",
       "    }\n",
       "</style>\n",
       "<table border=\"1\" class=\"dataframe\">\n",
       "  <thead>\n",
       "    <tr style=\"text-align: right;\">\n",
       "      <th></th>\n",
       "      <th>0</th>\n",
       "      <th>1</th>\n",
       "    </tr>\n",
       "  </thead>\n",
       "  <tbody>\n",
       "    <tr>\n",
       "      <th>A</th>\n",
       "      <td>100.0</td>\n",
       "      <td>NaN</td>\n",
       "    </tr>\n",
       "    <tr>\n",
       "      <th>B</th>\n",
       "      <td>200.0</td>\n",
       "      <td>NaN</td>\n",
       "    </tr>\n",
       "    <tr>\n",
       "      <th>C</th>\n",
       "      <td>300.0</td>\n",
       "      <td>NaN</td>\n",
       "    </tr>\n",
       "    <tr>\n",
       "      <th>D</th>\n",
       "      <td>NaN</td>\n",
       "      <td>400.0</td>\n",
       "    </tr>\n",
       "    <tr>\n",
       "      <th>E</th>\n",
       "      <td>NaN</td>\n",
       "      <td>500.0</td>\n",
       "    </tr>\n",
       "  </tbody>\n",
       "</table>\n",
       "</div>"
      ],
      "text/plain": [
       "       0      1\n",
       "A  100.0    NaN\n",
       "B  200.0    NaN\n",
       "C  300.0    NaN\n",
       "D    NaN  400.0\n",
       "E    NaN  500.0"
      ]
     },
     "execution_count": 12,
     "metadata": {},
     "output_type": "execute_result"
    }
   ],
   "source": [
    "pd.concat([s1,s2], axis=1)"
   ]
  },
  {
   "cell_type": "code",
   "execution_count": 13,
   "id": "eb31abef",
   "metadata": {},
   "outputs": [
    {
     "name": "stdout",
     "output_type": "stream",
     "text": [
      "          A         B         C\n",
      "0  0.660183  0.510650 -0.247445\n",
      "1 -0.285600 -0.368194 -0.004347\n",
      "2 -0.546191 -1.016405 -0.344565\n",
      "3  0.912491 -0.662765  1.215090\n",
      "   A  B  D\n",
      "0  0  1  2\n",
      "1  3  4  5\n",
      "2  6  7  8\n"
     ]
    }
   ],
   "source": [
    "#Concatenation in Pandas DataFrame\n",
    "df1 = DataFrame(np.random.randn(12).reshape(4,3),columns=list('ABC'))\n",
    "df2 = DataFrame(np.arange(9).reshape(3,3),columns=list('ABD'))\n",
    "print(df1)\n",
    "print(df2)"
   ]
  },
  {
   "cell_type": "code",
   "execution_count": 14,
   "id": "dd66ced0",
   "metadata": {},
   "outputs": [
    {
     "data": {
      "text/html": [
       "<div>\n",
       "<style scoped>\n",
       "    .dataframe tbody tr th:only-of-type {\n",
       "        vertical-align: middle;\n",
       "    }\n",
       "\n",
       "    .dataframe tbody tr th {\n",
       "        vertical-align: top;\n",
       "    }\n",
       "\n",
       "    .dataframe thead th {\n",
       "        text-align: right;\n",
       "    }\n",
       "</style>\n",
       "<table border=\"1\" class=\"dataframe\">\n",
       "  <thead>\n",
       "    <tr style=\"text-align: right;\">\n",
       "      <th></th>\n",
       "      <th>A</th>\n",
       "      <th>B</th>\n",
       "      <th>C</th>\n",
       "      <th>D</th>\n",
       "    </tr>\n",
       "  </thead>\n",
       "  <tbody>\n",
       "    <tr>\n",
       "      <th>0</th>\n",
       "      <td>0.660183</td>\n",
       "      <td>0.510650</td>\n",
       "      <td>-0.247445</td>\n",
       "      <td>NaN</td>\n",
       "    </tr>\n",
       "    <tr>\n",
       "      <th>1</th>\n",
       "      <td>-0.285600</td>\n",
       "      <td>-0.368194</td>\n",
       "      <td>-0.004347</td>\n",
       "      <td>NaN</td>\n",
       "    </tr>\n",
       "    <tr>\n",
       "      <th>2</th>\n",
       "      <td>-0.546191</td>\n",
       "      <td>-1.016405</td>\n",
       "      <td>-0.344565</td>\n",
       "      <td>NaN</td>\n",
       "    </tr>\n",
       "    <tr>\n",
       "      <th>3</th>\n",
       "      <td>0.912491</td>\n",
       "      <td>-0.662765</td>\n",
       "      <td>1.215090</td>\n",
       "      <td>NaN</td>\n",
       "    </tr>\n",
       "    <tr>\n",
       "      <th>0</th>\n",
       "      <td>0.000000</td>\n",
       "      <td>1.000000</td>\n",
       "      <td>NaN</td>\n",
       "      <td>2.0</td>\n",
       "    </tr>\n",
       "    <tr>\n",
       "      <th>1</th>\n",
       "      <td>3.000000</td>\n",
       "      <td>4.000000</td>\n",
       "      <td>NaN</td>\n",
       "      <td>5.0</td>\n",
       "    </tr>\n",
       "    <tr>\n",
       "      <th>2</th>\n",
       "      <td>6.000000</td>\n",
       "      <td>7.000000</td>\n",
       "      <td>NaN</td>\n",
       "      <td>8.0</td>\n",
       "    </tr>\n",
       "  </tbody>\n",
       "</table>\n",
       "</div>"
      ],
      "text/plain": [
       "          A         B         C    D\n",
       "0  0.660183  0.510650 -0.247445  NaN\n",
       "1 -0.285600 -0.368194 -0.004347  NaN\n",
       "2 -0.546191 -1.016405 -0.344565  NaN\n",
       "3  0.912491 -0.662765  1.215090  NaN\n",
       "0  0.000000  1.000000       NaN  2.0\n",
       "1  3.000000  4.000000       NaN  5.0\n",
       "2  6.000000  7.000000       NaN  8.0"
      ]
     },
     "execution_count": 14,
     "metadata": {},
     "output_type": "execute_result"
    }
   ],
   "source": [
    "pd.concat([df1,df2])"
   ]
  },
  {
   "cell_type": "code",
   "execution_count": 17,
   "id": "87dd6688",
   "metadata": {},
   "outputs": [
    {
     "data": {
      "text/html": [
       "<div>\n",
       "<style scoped>\n",
       "    .dataframe tbody tr th:only-of-type {\n",
       "        vertical-align: middle;\n",
       "    }\n",
       "\n",
       "    .dataframe tbody tr th {\n",
       "        vertical-align: top;\n",
       "    }\n",
       "\n",
       "    .dataframe thead th {\n",
       "        text-align: right;\n",
       "    }\n",
       "</style>\n",
       "<table border=\"1\" class=\"dataframe\">\n",
       "  <thead>\n",
       "    <tr style=\"text-align: right;\">\n",
       "      <th></th>\n",
       "      <th>A</th>\n",
       "      <th>B</th>\n",
       "      <th>C</th>\n",
       "      <th>D</th>\n",
       "    </tr>\n",
       "  </thead>\n",
       "  <tbody>\n",
       "    <tr>\n",
       "      <th>0</th>\n",
       "      <td>0.660183</td>\n",
       "      <td>0.510650</td>\n",
       "      <td>-0.247445</td>\n",
       "      <td>NaN</td>\n",
       "    </tr>\n",
       "    <tr>\n",
       "      <th>1</th>\n",
       "      <td>-0.285600</td>\n",
       "      <td>-0.368194</td>\n",
       "      <td>-0.004347</td>\n",
       "      <td>NaN</td>\n",
       "    </tr>\n",
       "    <tr>\n",
       "      <th>2</th>\n",
       "      <td>-0.546191</td>\n",
       "      <td>-1.016405</td>\n",
       "      <td>-0.344565</td>\n",
       "      <td>NaN</td>\n",
       "    </tr>\n",
       "    <tr>\n",
       "      <th>3</th>\n",
       "      <td>0.912491</td>\n",
       "      <td>-0.662765</td>\n",
       "      <td>1.215090</td>\n",
       "      <td>NaN</td>\n",
       "    </tr>\n",
       "    <tr>\n",
       "      <th>4</th>\n",
       "      <td>0.000000</td>\n",
       "      <td>1.000000</td>\n",
       "      <td>NaN</td>\n",
       "      <td>2.0</td>\n",
       "    </tr>\n",
       "    <tr>\n",
       "      <th>5</th>\n",
       "      <td>3.000000</td>\n",
       "      <td>4.000000</td>\n",
       "      <td>NaN</td>\n",
       "      <td>5.0</td>\n",
       "    </tr>\n",
       "    <tr>\n",
       "      <th>6</th>\n",
       "      <td>6.000000</td>\n",
       "      <td>7.000000</td>\n",
       "      <td>NaN</td>\n",
       "      <td>8.0</td>\n",
       "    </tr>\n",
       "  </tbody>\n",
       "</table>\n",
       "</div>"
      ],
      "text/plain": [
       "          A         B         C    D\n",
       "0  0.660183  0.510650 -0.247445  NaN\n",
       "1 -0.285600 -0.368194 -0.004347  NaN\n",
       "2 -0.546191 -1.016405 -0.344565  NaN\n",
       "3  0.912491 -0.662765  1.215090  NaN\n",
       "4  0.000000  1.000000       NaN  2.0\n",
       "5  3.000000  4.000000       NaN  5.0\n",
       "6  6.000000  7.000000       NaN  8.0"
      ]
     },
     "execution_count": 17,
     "metadata": {},
     "output_type": "execute_result"
    }
   ],
   "source": [
    "pd.concat([df1,df2], ignore_index=True)"
   ]
  },
  {
   "cell_type": "code",
   "execution_count": null,
   "id": "f825c67b",
   "metadata": {},
   "outputs": [],
   "source": []
  }
 ],
 "metadata": {
  "kernelspec": {
   "display_name": "Python 3 (ipykernel)",
   "language": "python",
   "name": "python3"
  },
  "language_info": {
   "codemirror_mode": {
    "name": "ipython",
    "version": 3
   },
   "file_extension": ".py",
   "mimetype": "text/x-python",
   "name": "python",
   "nbconvert_exporter": "python",
   "pygments_lexer": "ipython3",
   "version": "3.9.12"
  }
 },
 "nbformat": 4,
 "nbformat_minor": 5
}
