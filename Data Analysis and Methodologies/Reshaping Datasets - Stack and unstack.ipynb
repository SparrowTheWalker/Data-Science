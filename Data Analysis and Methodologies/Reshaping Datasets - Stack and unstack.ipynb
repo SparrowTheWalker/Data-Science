{
 "cells": [
  {
   "cell_type": "code",
   "execution_count": 1,
   "id": "f15b75cf",
   "metadata": {},
   "outputs": [],
   "source": [
    "import numpy as np\n",
    "import pandas as pd\n",
    "from pandas import Series, DataFrame"
   ]
  },
  {
   "cell_type": "code",
   "execution_count": 4,
   "id": "c13939ea",
   "metadata": {},
   "outputs": [
    {
     "name": "stdout",
     "output_type": "stream",
     "text": [
      "attributes  A  B  C  D\n",
      "countries             \n",
      "America     0  1  2  3\n",
      "China       4  5  6  7\n"
     ]
    }
   ],
   "source": [
    "df = DataFrame(np.arange(8).reshape(2,4), index=pd.Index(['America','China'],name='countries'),\n",
    "               columns=pd.Index(list('ABCD'),name='attributes'))\n",
    "print(df)"
   ]
  },
  {
   "cell_type": "code",
   "execution_count": 9,
   "id": "808dd285",
   "metadata": {},
   "outputs": [
    {
     "name": "stdout",
     "output_type": "stream",
     "text": [
      "countries  attributes\n",
      "America    A             0\n",
      "           B             1\n",
      "           C             2\n",
      "           D             3\n",
      "China      A             4\n",
      "           B             5\n",
      "           C             6\n",
      "           D             7\n",
      "dtype: int64\n"
     ]
    }
   ],
   "source": [
    "#Stacking and Unstacking DataFrames\n",
    "stackdf = df.stack()\n",
    "print(stackdf)"
   ]
  },
  {
   "cell_type": "code",
   "execution_count": 11,
   "id": "ede789cb",
   "metadata": {},
   "outputs": [
    {
     "name": "stdout",
     "output_type": "stream",
     "text": [
      "attributes  A  B  C  D\n",
      "countries             \n",
      "America     0  1  2  3\n",
      "China       4  5  6  7\n"
     ]
    }
   ],
   "source": [
    "unstack = stackdf.unstack()\n",
    "print(unstack)"
   ]
  },
  {
   "cell_type": "code",
   "execution_count": 10,
   "id": "d15567a0",
   "metadata": {},
   "outputs": [
    {
     "name": "stdout",
     "output_type": "stream",
     "text": [
      "attributes  A  B  C  D\n",
      "countries             \n",
      "America     0  1  2  3\n",
      "China       4  5  6  7\n"
     ]
    }
   ],
   "source": [
    "print(df)"
   ]
  },
  {
   "cell_type": "code",
   "execution_count": 12,
   "id": "66432455",
   "metadata": {},
   "outputs": [
    {
     "name": "stdout",
     "output_type": "stream",
     "text": [
      "countries   America  China\n",
      "attributes                \n",
      "A                 0      4\n",
      "B                 1      5\n",
      "C                 2      6\n",
      "D                 3      7\n"
     ]
    }
   ],
   "source": [
    "#Unstack along column or index\n",
    "df2 = stackdf.unstack('countries')\n",
    "print(df2)"
   ]
  },
  {
   "cell_type": "code",
   "execution_count": 13,
   "id": "a039beab",
   "metadata": {},
   "outputs": [
    {
     "name": "stdout",
     "output_type": "stream",
     "text": [
      "attributes  A  B  C  D\n",
      "countries             \n",
      "America     0  1  2  3\n",
      "China       4  5  6  7\n"
     ]
    }
   ],
   "source": [
    "df3 = stackdf.unstack('attributes')\n",
    "print(df3)"
   ]
  },
  {
   "cell_type": "code",
   "execution_count": 14,
   "id": "0948310d",
   "metadata": {},
   "outputs": [
    {
     "name": "stdout",
     "output_type": "stream",
     "text": [
      "A     5\n",
      "B    10\n",
      "C    15\n",
      "dtype: int64\n"
     ]
    }
   ],
   "source": [
    "#Stacking and Unstacking along a series\n",
    "s1 = Series([5,10,15], index=list('ABC'))\n",
    "print(s1)"
   ]
  },
  {
   "cell_type": "code",
   "execution_count": 15,
   "id": "06910565",
   "metadata": {},
   "outputs": [
    {
     "name": "stdout",
     "output_type": "stream",
     "text": [
      "B    20\n",
      "C    25\n",
      "D    30\n",
      "dtype: int64\n"
     ]
    }
   ],
   "source": [
    "s2 = Series([20,25,30], index=list('BCD'))\n",
    "print(s2)"
   ]
  },
  {
   "cell_type": "code",
   "execution_count": 16,
   "id": "65bd60bd",
   "metadata": {},
   "outputs": [
    {
     "name": "stdout",
     "output_type": "stream",
     "text": [
      "k1  A     5\n",
      "    B    10\n",
      "    C    15\n",
      "k2  B    20\n",
      "    C    25\n",
      "    D    30\n",
      "dtype: int64\n"
     ]
    }
   ],
   "source": [
    "s3 = pd.concat([s1,s2], keys=['k1','k2'])\n",
    "print(s3)"
   ]
  },
  {
   "cell_type": "code",
   "execution_count": 17,
   "id": "ea84b388",
   "metadata": {},
   "outputs": [
    {
     "name": "stdout",
     "output_type": "stream",
     "text": [
      "      A     B     C     D\n",
      "k1  5.0  10.0  15.0   NaN\n",
      "k2  NaN  20.0  25.0  30.0\n"
     ]
    }
   ],
   "source": [
    "df_series = s3.unstack()\n",
    "print(df_series)"
   ]
  },
  {
   "cell_type": "code",
   "execution_count": 19,
   "id": "67579539",
   "metadata": {},
   "outputs": [
    {
     "data": {
      "text/plain": [
       "k1  A     5.0\n",
       "    B    10.0\n",
       "    C    15.0\n",
       "k2  B    20.0\n",
       "    C    25.0\n",
       "    D    30.0\n",
       "dtype: float64"
      ]
     },
     "execution_count": 19,
     "metadata": {},
     "output_type": "execute_result"
    }
   ],
   "source": [
    "df_series.stack()"
   ]
  },
  {
   "cell_type": "code",
   "execution_count": 20,
   "id": "54e803b6",
   "metadata": {},
   "outputs": [
    {
     "data": {
      "text/plain": [
       "k1  A     5.0\n",
       "    B    10.0\n",
       "    C    15.0\n",
       "    D     NaN\n",
       "k2  A     NaN\n",
       "    B    20.0\n",
       "    C    25.0\n",
       "    D    30.0\n",
       "dtype: float64"
      ]
     },
     "execution_count": 20,
     "metadata": {},
     "output_type": "execute_result"
    }
   ],
   "source": [
    "df_series.stack(dropna=False)"
   ]
  },
  {
   "cell_type": "code",
   "execution_count": null,
   "id": "89d20875",
   "metadata": {},
   "outputs": [],
   "source": []
  }
 ],
 "metadata": {
  "kernelspec": {
   "display_name": "Python 3 (ipykernel)",
   "language": "python",
   "name": "python3"
  },
  "language_info": {
   "codemirror_mode": {
    "name": "ipython",
    "version": 3
   },
   "file_extension": ".py",
   "mimetype": "text/x-python",
   "name": "python",
   "nbconvert_exporter": "python",
   "pygments_lexer": "ipython3",
   "version": "3.9.12"
  }
 },
 "nbformat": 4,
 "nbformat_minor": 5
}
