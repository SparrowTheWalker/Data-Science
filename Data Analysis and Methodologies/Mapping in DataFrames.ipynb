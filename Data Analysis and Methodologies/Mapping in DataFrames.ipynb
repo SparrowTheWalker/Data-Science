{
 "cells": [
  {
   "cell_type": "code",
   "execution_count": 1,
   "id": "0cc6c1f3",
   "metadata": {},
   "outputs": [],
   "source": [
    "import pandas as pd\n",
    "from pandas import DataFrame"
   ]
  },
  {
   "cell_type": "code",
   "execution_count": 3,
   "id": "e8432e45",
   "metadata": {},
   "outputs": [
    {
     "name": "stdout",
     "output_type": "stream",
     "text": [
      "   country  GDP\n",
      "0      USA   19\n",
      "1    China   12\n",
      "2    Japan    4\n",
      "3  Germany    3\n",
      "4    India    2\n"
     ]
    }
   ],
   "source": [
    "df = DataFrame(\n",
    "{\n",
    "    'country':['USA','China','Japan','Germany','India'],\n",
    "    'GDP':[19,12,4,3,2]\n",
    "})\n",
    "print(df)"
   ]
  },
  {
   "cell_type": "code",
   "execution_count": 4,
   "id": "5f03df45",
   "metadata": {},
   "outputs": [
    {
     "name": "stdout",
     "output_type": "stream",
     "text": [
      "{'USA': 325, 'China': 1421, 'Japan': 127, 'Germany': 82, 'India': 1338}\n"
     ]
    }
   ],
   "source": [
    "population_map = {\n",
    "    'USA': 325,\n",
    "    'China':1421,\n",
    "    'Japan':127,\n",
    "    'Germany':82,\n",
    "    'India':1338\n",
    "}\n",
    "print(population_map)"
   ]
  },
  {
   "cell_type": "code",
   "execution_count": 6,
   "id": "9294c099",
   "metadata": {},
   "outputs": [],
   "source": [
    "df['population'] = df['country'].map(population_map)"
   ]
  },
  {
   "cell_type": "code",
   "execution_count": 7,
   "id": "9ad4ac7b",
   "metadata": {},
   "outputs": [
    {
     "name": "stdout",
     "output_type": "stream",
     "text": [
      "   country  GDP  population\n",
      "0      USA   19         325\n",
      "1    China   12        1421\n",
      "2    Japan    4         127\n",
      "3  Germany    3          82\n",
      "4    India    2        1338\n"
     ]
    }
   ],
   "source": [
    "print(df)"
   ]
  },
  {
   "cell_type": "code",
   "execution_count": null,
   "id": "397f2e29",
   "metadata": {},
   "outputs": [],
   "source": []
  }
 ],
 "metadata": {
  "kernelspec": {
   "display_name": "Python 3 (ipykernel)",
   "language": "python",
   "name": "python3"
  },
  "language_info": {
   "codemirror_mode": {
    "name": "ipython",
    "version": 3
   },
   "file_extension": ".py",
   "mimetype": "text/x-python",
   "name": "python",
   "nbconvert_exporter": "python",
   "pygments_lexer": "ipython3",
   "version": "3.9.12"
  }
 },
 "nbformat": 4,
 "nbformat_minor": 5
}
