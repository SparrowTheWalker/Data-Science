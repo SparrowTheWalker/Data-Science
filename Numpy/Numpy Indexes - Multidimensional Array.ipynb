{
 "cells": [
  {
   "cell_type": "code",
   "execution_count": 1,
   "id": "a8dd5c71",
   "metadata": {},
   "outputs": [],
   "source": [
    "import numpy as np"
   ]
  },
  {
   "cell_type": "code",
   "execution_count": 3,
   "id": "9e616a4c",
   "metadata": {},
   "outputs": [
    {
     "name": "stdout",
     "output_type": "stream",
     "text": [
      "[[1 2 3]\n",
      " [4 5 6]\n",
      " [7 8 9]]\n"
     ]
    }
   ],
   "source": [
    "arr2d = np.array([[1,2,3],[4,5,6],[7,8,9]])\n",
    "print(arr2d)"
   ]
  },
  {
   "cell_type": "code",
   "execution_count": 6,
   "id": "bc095be6",
   "metadata": {},
   "outputs": [
    {
     "name": "stdout",
     "output_type": "stream",
     "text": [
      "[1 2 3]\n",
      "[4 5 6]\n"
     ]
    }
   ],
   "source": [
    " #Accessing rows\n",
    "print(arr2d[0])\n",
    "print(arr2d[1])"
   ]
  },
  {
   "cell_type": "code",
   "execution_count": 8,
   "id": "d8ded9aa",
   "metadata": {},
   "outputs": [
    {
     "name": "stdout",
     "output_type": "stream",
     "text": [
      "1\n"
     ]
    }
   ],
   "source": [
    "#Accessing elements of an array\n",
    "print(arr2d[0][0])"
   ]
  },
  {
   "cell_type": "code",
   "execution_count": 9,
   "id": "3887f01c",
   "metadata": {},
   "outputs": [
    {
     "name": "stdout",
     "output_type": "stream",
     "text": [
      "6\n"
     ]
    }
   ],
   "source": [
    "print(arr2d[1][2])"
   ]
  },
  {
   "cell_type": "code",
   "execution_count": 10,
   "id": "071abdc6",
   "metadata": {},
   "outputs": [
    {
     "name": "stdout",
     "output_type": "stream",
     "text": [
      "[[1 2]]\n"
     ]
    }
   ],
   "source": [
    "#Slicing in 2D arrays\n",
    "slice1 = arr2d[0:1, 0:2]\n",
    "print(slice1)"
   ]
  },
  {
   "cell_type": "code",
   "execution_count": 11,
   "id": "14eabaf7",
   "metadata": {},
   "outputs": [
    {
     "name": "stdout",
     "output_type": "stream",
     "text": [
      "[[1 2 3]\n",
      " [4 5 6]]\n"
     ]
    }
   ],
   "source": [
    "slice2 = arr2d[0:2,0:3]\n",
    "print(slice2)"
   ]
  },
  {
   "cell_type": "code",
   "execution_count": 13,
   "id": "080777ea",
   "metadata": {},
   "outputs": [
    {
     "name": "stdout",
     "output_type": "stream",
     "text": [
      "[[1 2 3]\n",
      " [4 5 6]]\n"
     ]
    }
   ],
   "source": [
    "slicing3 = arr2d[:2, :3]\n",
    "print(slicing3)"
   ]
  },
  {
   "cell_type": "code",
   "execution_count": 14,
   "id": "9a64d093",
   "metadata": {},
   "outputs": [],
   "source": [
    "slice4 = arr2d[1:,2:]"
   ]
  },
  {
   "cell_type": "code",
   "execution_count": 15,
   "id": "79fc558a",
   "metadata": {},
   "outputs": [
    {
     "name": "stdout",
     "output_type": "stream",
     "text": [
      "[[6]\n",
      " [9]]\n"
     ]
    }
   ],
   "source": [
    "print(slice4)"
   ]
  },
  {
   "cell_type": "code",
   "execution_count": 17,
   "id": "8974ff9b",
   "metadata": {},
   "outputs": [
    {
     "name": "stdout",
     "output_type": "stream",
     "text": [
      "(3, 3)\n"
     ]
    }
   ],
   "source": [
    "#Using loops to change indexes\n",
    "#The function shape returns the shape of an array\n",
    "arr_len = arr2d.shape\n",
    "print(arr_len)\n",
    "nrows = arr_len[0]"
   ]
  },
  {
   "cell_type": "code",
   "execution_count": 18,
   "id": "38121c98",
   "metadata": {},
   "outputs": [
    {
     "name": "stdout",
     "output_type": "stream",
     "text": [
      "[[0 2 3]\n",
      " [1 5 6]\n",
      " [2 8 9]]\n"
     ]
    }
   ],
   "source": [
    "for i in range(nrows):\n",
    "    arr2d[i][0] = i\n",
    "print(arr2d)    "
   ]
  },
  {
   "cell_type": "code",
   "execution_count": 20,
   "id": "bfd58899",
   "metadata": {},
   "outputs": [
    {
     "name": "stdout",
     "output_type": "stream",
     "text": [
      "[[0 2 3]\n",
      " [1 5 6]]\n"
     ]
    }
   ],
   "source": [
    "#Accessing rows using list of index values\n",
    "print(arr2d[[0,1]])"
   ]
  },
  {
   "cell_type": "code",
   "execution_count": 21,
   "id": "a7174a3a",
   "metadata": {},
   "outputs": [
    {
     "name": "stdout",
     "output_type": "stream",
     "text": [
      "[[1 5 6]\n",
      " [0 2 3]]\n"
     ]
    }
   ],
   "source": [
    "print(arr2d[[1,0]])"
   ]
  },
  {
   "cell_type": "code",
   "execution_count": null,
   "id": "8b1ce1ac",
   "metadata": {},
   "outputs": [],
   "source": []
  }
 ],
 "metadata": {
  "kernelspec": {
   "display_name": "Python 3 (ipykernel)",
   "language": "python",
   "name": "python3"
  },
  "language_info": {
   "codemirror_mode": {
    "name": "ipython",
    "version": 3
   },
   "file_extension": ".py",
   "mimetype": "text/x-python",
   "name": "python",
   "nbconvert_exporter": "python",
   "pygments_lexer": "ipython3",
   "version": "3.9.12"
  }
 },
 "nbformat": 4,
 "nbformat_minor": 5
}
