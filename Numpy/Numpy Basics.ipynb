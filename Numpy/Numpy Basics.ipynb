{
 "cells": [
  {
   "cell_type": "code",
   "execution_count": 3,
   "id": "e408229d",
   "metadata": {},
   "outputs": [],
   "source": [
    "import numpy as np"
   ]
  },
  {
   "cell_type": "code",
   "execution_count": 6,
   "id": "46067a24",
   "metadata": {},
   "outputs": [
    {
     "name": "stdout",
     "output_type": "stream",
     "text": [
      "[101 102 103]\n"
     ]
    }
   ],
   "source": [
    "#Creating a 1D Numpy Array\n",
    "mylist1 = [101,102,103]\n",
    "myArray = np.array(mylist1)\n",
    "print(myArray)"
   ]
  },
  {
   "cell_type": "code",
   "execution_count": 8,
   "id": "f2ed6b23",
   "metadata": {},
   "outputs": [
    {
     "name": "stdout",
     "output_type": "stream",
     "text": [
      "[[101 102 103]\n",
      " [201 202 203]]\n"
     ]
    }
   ],
   "source": [
    "#Creating 2D array from a list\n",
    "mylist2 = [201,202,203]\n",
    "myArray2D = np.array([mylist1,mylist2])\n",
    "print(myArray2D)\n"
   ]
  },
  {
   "cell_type": "code",
   "execution_count": 9,
   "id": "4f88b005",
   "metadata": {},
   "outputs": [
    {
     "name": "stdout",
     "output_type": "stream",
     "text": [
      "[[101 102 103]\n",
      " [201 202 203]]\n"
     ]
    }
   ],
   "source": [
    "#Tesing on 2D arrays\n",
    "myArray0D = np.array([mylist1,mylist2])\n",
    "print(myArray0D)"
   ]
  },
  {
   "cell_type": "code",
   "execution_count": 5,
   "id": "dfa5408a",
   "metadata": {},
   "outputs": [
    {
     "name": "stdout",
     "output_type": "stream",
     "text": [
      "myArray Dimensions\n",
      "(3,)\n",
      "myArray2D Dimensions\n",
      "(2, 3)\n"
     ]
    }
   ],
   "source": [
    "#Finding the shape ofArray - Shape\n",
    "print(\"myArray Dimensions\")\n",
    "print(myArray.shape)\n",
    "print(\"myArray2D Dimensions\")\n",
    "print(myArray2D.shape)"
   ]
  },
  {
   "cell_type": "code",
   "execution_count": 6,
   "id": "edcfbd77",
   "metadata": {},
   "outputs": [
    {
     "name": "stdout",
     "output_type": "stream",
     "text": [
      "myArray DataType\n",
      "int64\n",
      "myArray2D DataType\n",
      "int64\n"
     ]
    }
   ],
   "source": [
    "#Finding out the dataType of The array\n",
    "print(\"myArray DataType\")\n",
    "print(myArray.dtype)\n",
    "print(\"myArray2D DataType\")\n",
    "print(myArray2D.dtype)"
   ]
  },
  {
   "cell_type": "code",
   "execution_count": 8,
   "id": "fdcc7258",
   "metadata": {},
   "outputs": [
    {
     "name": "stdout",
     "output_type": "stream",
     "text": [
      "[0. 0. 0. 0. 0.]\n",
      "[[0. 0. 0. 0. 0.]\n",
      " [0. 0. 0. 0. 0.]\n",
      " [0. 0. 0. 0. 0.]\n",
      " [0. 0. 0. 0. 0.]\n",
      " [0. 0. 0. 0. 0.]]\n"
     ]
    }
   ],
   "source": [
    "#myArray Creation and Initialization Function\n",
    "zero_array = np.zeros(5)\n",
    "print(zero_array)\n",
    "\n",
    "zero_array2 = np.zeros([5,5])\n",
    "print(zero_array2)"
   ]
  },
  {
   "cell_type": "code",
   "execution_count": 9,
   "id": "275fe3c4",
   "metadata": {},
   "outputs": [
    {
     "name": "stdout",
     "output_type": "stream",
     "text": [
      "[0. 0. 0. 0. 0.]\n",
      "[[0. 0. 0. 0. 0.]\n",
      " [0. 0. 0. 0. 0.]\n",
      " [0. 0. 0. 0. 0.]\n",
      " [0. 0. 0. 0. 0.]\n",
      " [0. 0. 0. 0. 0.]]\n"
     ]
    }
   ],
   "source": [
    "#Array Creation and Initialization Functions - Empty\n",
    "zero_array = np.empty(5)\n",
    "print(zero_array)\n",
    "\n",
    "zero_array2 = np.empty([5,5])\n",
    "print(zero_array2)"
   ]
  },
  {
   "cell_type": "code",
   "execution_count": 10,
   "id": "8b2d0374",
   "metadata": {},
   "outputs": [
    {
     "name": "stdout",
     "output_type": "stream",
     "text": [
      "[[1. 0. 0.]\n",
      " [0. 1. 0.]\n",
      " [0. 0. 1.]]\n"
     ]
    }
   ],
   "source": [
    "#Array Creation and Initialization Functions - Eye - Used to create an Identity Matrix\n",
    "Identity_Array = np.eye(3)\n",
    "print(Identity_Array)"
   ]
  },
  {
   "cell_type": "code",
   "execution_count": 11,
   "id": "9e462141",
   "metadata": {},
   "outputs": [
    {
     "name": "stdout",
     "output_type": "stream",
     "text": [
      "[ 0  2  4  6  8 10 12 14 16 18 20 22 24 26 28 30 32 34 36 38 40 42 44 46\n",
      " 48]\n"
     ]
    }
   ],
   "source": [
    "#Array Creation and Initialization Functions - Arange - Arithmetic Progression\n",
    "AP_array = np.arange(0,50,2)\n",
    "#AP = Arithmetic Progression\n",
    "print(AP_array)"
   ]
  },
  {
   "cell_type": "code",
   "execution_count": null,
   "id": "f312893c",
   "metadata": {},
   "outputs": [],
   "source": []
  }
 ],
 "metadata": {
  "kernelspec": {
   "display_name": "Python 3 (ipykernel)",
   "language": "python",
   "name": "python3"
  },
  "language_info": {
   "codemirror_mode": {
    "name": "ipython",
    "version": 3
   },
   "file_extension": ".py",
   "mimetype": "text/x-python",
   "name": "python",
   "nbconvert_exporter": "python",
   "pygments_lexer": "ipython3",
   "version": "3.9.12"
  }
 },
 "nbformat": 4,
 "nbformat_minor": 5
}
