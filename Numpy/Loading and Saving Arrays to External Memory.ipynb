{
 "cells": [
  {
   "cell_type": "code",
   "execution_count": 4,
   "id": "52f98e65",
   "metadata": {},
   "outputs": [],
   "source": [
    "import numpy as np"
   ]
  },
  {
   "cell_type": "code",
   "execution_count": 13,
   "id": "c53ba5ae",
   "metadata": {},
   "outputs": [],
   "source": [
    "arr = np.arange(10)"
   ]
  },
  {
   "cell_type": "code",
   "execution_count": null,
   "id": "a569ac95",
   "metadata": {},
   "outputs": [],
   "source": []
  },
  {
   "cell_type": "code",
   "execution_count": 5,
   "id": "2cbbdb5e",
   "metadata": {},
   "outputs": [
    {
     "name": "stdout",
     "output_type": "stream",
     "text": [
      "[0 1 2 3 4 5 6 7 8 9]\n"
     ]
    }
   ],
   "source": [
    "print(arr)"
   ]
  },
  {
   "cell_type": "code",
   "execution_count": 7,
   "id": "41b005ae",
   "metadata": {},
   "outputs": [],
   "source": [
    "#Why do we need to save arrays to the hard drive?\n"
   ]
  },
  {
   "cell_type": "code",
   "execution_count": 8,
   "id": "cbe39a3f",
   "metadata": {},
   "outputs": [],
   "source": [
    "#Saving single array\n",
    "np.save(\"saved_array\",arr)"
   ]
  },
  {
   "cell_type": "code",
   "execution_count": 9,
   "id": "c56a7707",
   "metadata": {},
   "outputs": [
    {
     "name": "stdout",
     "output_type": "stream",
     "text": [
      "[0 1 2 3 4 5 6 7 8 9]\n"
     ]
    }
   ],
   "source": [
    "#Loading a single array\n",
    "load_array1 = np.load('saved_array.npy')\n",
    "print(load_array1)"
   ]
  },
  {
   "cell_type": "code",
   "execution_count": 9,
   "id": "9e937ed6",
   "metadata": {},
   "outputs": [],
   "source": [
    "#Saving multiple array\n",
    "arr2 = np.arange(25)\n",
    "arr3 = np.arange(5)\n",
    "np.savez('saved_archived.npz', x=arr2, y=arr3)"
   ]
  },
  {
   "cell_type": "code",
   "execution_count": 5,
   "id": "e17ef70e",
   "metadata": {},
   "outputs": [
    {
     "name": "stdout",
     "output_type": "stream",
     "text": [
      "[ 0  1  2  3  4  5  6  7  8  9 10 11 12 13 14 15 16 17 18 19 20 21 22 23\n",
      " 24]\n",
      "[0 1 2 3 4]\n"
     ]
    }
   ],
   "source": [
    "#loading multiple array\n",
    "load_npz = np.load('saved_archived.npz')\n",
    "print(load_npz['x'])\n",
    "print(load_npz['y'])"
   ]
  },
  {
   "cell_type": "code",
   "execution_count": 15,
   "id": "05bceec4",
   "metadata": {},
   "outputs": [],
   "source": [
    "#Saving array to a text file\n",
    "np.savetxt('myarray.txt',arr2, delimiter=',')\n"
   ]
  },
  {
   "cell_type": "code",
   "execution_count": 17,
   "id": "63e5ee77",
   "metadata": {},
   "outputs": [
    {
     "name": "stdout",
     "output_type": "stream",
     "text": [
      "[ 0.  1.  2.  3.  4.  5.  6.  7.  8.  9. 10. 11. 12. 13. 14. 15. 16. 17.\n",
      " 18. 19. 20. 21. 22. 23. 24.]\n"
     ]
    }
   ],
   "source": [
    "#Loading array from the text file\n",
    "load_file = np.loadtxt('myarray.txt', delimiter=',')\n",
    "print(load_file)"
   ]
  },
  {
   "cell_type": "code",
   "execution_count": null,
   "id": "c12521f1",
   "metadata": {},
   "outputs": [],
   "source": [
    "#What is a delimeter\n"
   ]
  }
 ],
 "metadata": {
  "kernelspec": {
   "display_name": "Python 3 (ipykernel)",
   "language": "python",
   "name": "python3"
  },
  "language_info": {
   "codemirror_mode": {
    "name": "ipython",
    "version": 3
   },
   "file_extension": ".py",
   "mimetype": "text/x-python",
   "name": "python",
   "nbconvert_exporter": "python",
   "pygments_lexer": "ipython3",
   "version": "3.9.12"
  }
 },
 "nbformat": 4,
 "nbformat_minor": 5
}
