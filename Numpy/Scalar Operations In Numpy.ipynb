{
 "cells": [
  {
   "cell_type": "code",
   "execution_count": 1,
   "id": "ab6548e1",
   "metadata": {},
   "outputs": [],
   "source": [
    "import numpy as np"
   ]
  },
  {
   "cell_type": "code",
   "execution_count": 2,
   "id": "090b4904",
   "metadata": {},
   "outputs": [
    {
     "name": "stdout",
     "output_type": "stream",
     "text": [
      "[[1 2 3]\n",
      " [5 6 7]]\n"
     ]
    }
   ],
   "source": [
    "arr1 = np.array([[1,2,3],[5,6,7]])\n",
    "print(arr1)"
   ]
  },
  {
   "cell_type": "code",
   "execution_count": 4,
   "id": "f85f2c11",
   "metadata": {},
   "outputs": [
    {
     "name": "stdout",
     "output_type": "stream",
     "text": [
      "[[ 1  4  9]\n",
      " [25 36 49]]\n"
     ]
    }
   ],
   "source": [
    "arr2 = arr1 * arr1\n",
    "print(arr2)"
   ]
  },
  {
   "cell_type": "code",
   "execution_count": 6,
   "id": "84a1692a",
   "metadata": {},
   "outputs": [
    {
     "name": "stdout",
     "output_type": "stream",
     "text": [
      "[[  1   8  27]\n",
      " [125 216 343]]\n"
     ]
    }
   ],
   "source": [
    "#Exponential Multiplication using ** operator\n",
    "arr3 = arr1 ** 3\n",
    "print(arr3)"
   ]
  },
  {
   "cell_type": "raw",
   "id": "fbb1332b",
   "metadata": {},
   "source": []
  },
  {
   "cell_type": "raw",
   "id": "f732c336",
   "metadata": {},
   "source": []
  },
  {
   "cell_type": "code",
   "execution_count": 7,
   "id": "a7ab5cd8",
   "metadata": {},
   "outputs": [
    {
     "name": "stdout",
     "output_type": "stream",
     "text": [
      "[[  0   6  24]\n",
      " [120 210 336]]\n"
     ]
    }
   ],
   "source": [
    "#scalar subtraction of array elements\n",
    "arr4 = arr3 - arr1\n",
    "print(arr4)"
   ]
  },
  {
   "cell_type": "code",
   "execution_count": 8,
   "id": "686cc684",
   "metadata": {},
   "outputs": [
    {
     "name": "stdout",
     "output_type": "stream",
     "text": [
      "[[1.         0.5        0.33333333]\n",
      " [0.2        0.16666667 0.14285714]]\n"
     ]
    }
   ],
   "source": [
    "#Scalar Division of array elements\n",
    "arr5 = 1/arr1\n",
    "print(arr5)"
   ]
  },
  {
   "cell_type": "code",
   "execution_count": null,
   "id": "d2b10b0b",
   "metadata": {},
   "outputs": [],
   "source": []
  }
 ],
 "metadata": {
  "kernelspec": {
   "display_name": "Python 3 (ipykernel)",
   "language": "python",
   "name": "python3"
  },
  "language_info": {
   "codemirror_mode": {
    "name": "ipython",
    "version": 3
   },
   "file_extension": ".py",
   "mimetype": "text/x-python",
   "name": "python",
   "nbconvert_exporter": "python",
   "pygments_lexer": "ipython3",
   "version": "3.9.12"
  }
 },
 "nbformat": 4,
 "nbformat_minor": 5
}
