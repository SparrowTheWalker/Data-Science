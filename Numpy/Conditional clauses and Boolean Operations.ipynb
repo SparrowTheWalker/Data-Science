{
 "cells": [
  {
   "cell_type": "code",
   "execution_count": 1,
   "id": "fc662b40",
   "metadata": {},
   "outputs": [],
   "source": [
    "import numpy as np"
   ]
  },
  {
   "cell_type": "code",
   "execution_count": 2,
   "id": "a9bb3695",
   "metadata": {},
   "outputs": [
    {
     "name": "stdout",
     "output_type": "stream",
     "text": [
      "[100, 400, 20, 25]\n"
     ]
    }
   ],
   "source": [
    "x = np.array([100,400,-50,-40]) #Each element of a\n",
    "y = np.array([10,15,20,25]) #Each element b\n",
    "condition = np.array([True,True,False,False]) #Each element cond\n",
    "\n",
    "z = [a if cond else b for a, cond, b in zip(x, condition ,y)]\n",
    "print(z)"
   ]
  },
  {
   "cell_type": "code",
   "execution_count": 3,
   "id": "f4ed2355",
   "metadata": {},
   "outputs": [
    {
     "name": "stdout",
     "output_type": "stream",
     "text": [
      "[100 400  20  25]\n"
     ]
    }
   ],
   "source": [
    "#Using numpy.where(conditions, values for true,value for false)\n",
    "\n",
    "z2 = np.where(condition,x,y)\n",
    "print(z2)\n"
   ]
  },
  {
   "cell_type": "code",
   "execution_count": 4,
   "id": "50a363d9",
   "metadata": {},
   "outputs": [
    {
     "name": "stdout",
     "output_type": "stream",
     "text": [
      "[  1   1 -50 -40]\n"
     ]
    }
   ],
   "source": [
    "z3 = np.where(x>0,1,x)\n",
    "print(z3)"
   ]
  },
  {
   "cell_type": "code",
   "execution_count": 6,
   "id": "a96b8486",
   "metadata": {},
   "outputs": [
    {
     "name": "stdout",
     "output_type": "stream",
     "text": [
      "410\n"
     ]
    }
   ],
   "source": [
    "#Standard functions of numpy - sum, sum(0), variance , mean(), std()\n",
    "print(x.sum())"
   ]
  },
  {
   "cell_type": "code",
   "execution_count": 7,
   "id": "43946785",
   "metadata": {},
   "outputs": [],
   "source": [
    " x2 = np.array([[1,2],[3,4]])"
   ]
  },
  {
   "cell_type": "code",
   "execution_count": 8,
   "id": "02689971",
   "metadata": {},
   "outputs": [
    {
     "name": "stdout",
     "output_type": "stream",
     "text": [
      "[[1 2]\n",
      " [3 4]]\n"
     ]
    }
   ],
   "source": [
    "print(x2)"
   ]
  },
  {
   "cell_type": "code",
   "execution_count": 9,
   "id": "de5ff526",
   "metadata": {},
   "outputs": [
    {
     "name": "stdout",
     "output_type": "stream",
     "text": [
      "[4 6]\n"
     ]
    }
   ],
   "source": [
    "print(x2.sum(0))"
   ]
  },
  {
   "cell_type": "code",
   "execution_count": 10,
   "id": "17194d64",
   "metadata": {},
   "outputs": [
    {
     "name": "stdout",
     "output_type": "stream",
     "text": [
      "102.5\n"
     ]
    }
   ],
   "source": [
    "print(x.mean())\n"
   ]
  },
  {
   "cell_type": "code",
   "execution_count": 11,
   "id": "c8ab45aa",
   "metadata": {},
   "outputs": [
    {
     "name": "stdout",
     "output_type": "stream",
     "text": [
      "181.71062159378576\n",
      "33018.75\n"
     ]
    }
   ],
   "source": [
    "print(x.std())\n",
    "print(x.var())"
   ]
  },
  {
   "cell_type": "code",
   "execution_count": 12,
   "id": "8f397c53",
   "metadata": {},
   "outputs": [
    {
     "name": "stdout",
     "output_type": "stream",
     "text": [
      "True\n",
      "False\n"
     ]
    }
   ],
   "source": [
    "#Logical AND OR operations - any(), all()\n",
    "condition2 = np.array([True,False,True])\n",
    "#OR\n",
    "print(condition2.any())\n",
    "\n",
    "#AND\n",
    "print(condition2.all())"
   ]
  },
  {
   "cell_type": "code",
   "execution_count": 13,
   "id": "b29aa568",
   "metadata": {},
   "outputs": [
    {
     "name": "stdout",
     "output_type": "stream",
     "text": [
      "[ 1  2  3  4  6 10]\n"
     ]
    }
   ],
   "source": [
    "#Sort() function\n",
    "unsorted = np.array([1,2,10,6,4,3])\n",
    "unsorted.sort()\n",
    "print(unsorted)"
   ]
  },
  {
   "cell_type": "code",
   "execution_count": 14,
   "id": "281aa836",
   "metadata": {},
   "outputs": [
    {
     "name": "stdout",
     "output_type": "stream",
     "text": [
      "['gas' 'liquid' 'solid']\n"
     ]
    }
   ],
   "source": [
    "#Unique\n",
    "arr2 = np.array(['liquid', 'liquid', 'liquid', 'gas', 'gas', 'solid', 'solid'])\n",
    "print(np.unique(arr2)) "
   ]
  },
  {
   "cell_type": "code",
   "execution_count": 15,
   "id": "7f1b3a74",
   "metadata": {},
   "outputs": [
    {
     "name": "stdout",
     "output_type": "stream",
     "text": [
      "[ True  True False]\n"
     ]
    }
   ],
   "source": [
    "#in1d function - used to check whether a list of elements is present in an array or not\n",
    "print(np.in1d(['solid', 'liquid', 'plasma'],arr2))\n"
   ]
  },
  {
   "cell_type": "code",
   "execution_count": null,
   "id": "22792f4a",
   "metadata": {},
   "outputs": [],
   "source": []
  }
 ],
 "metadata": {
  "kernelspec": {
   "display_name": "Python 3 (ipykernel)",
   "language": "python",
   "name": "python3"
  },
  "language_info": {
   "codemirror_mode": {
    "name": "ipython",
    "version": 3
   },
   "file_extension": ".py",
   "mimetype": "text/x-python",
   "name": "python",
   "nbconvert_exporter": "python",
   "pygments_lexer": "ipython3",
   "version": "3.9.12"
  }
 },
 "nbformat": 4,
 "nbformat_minor": 5
}
