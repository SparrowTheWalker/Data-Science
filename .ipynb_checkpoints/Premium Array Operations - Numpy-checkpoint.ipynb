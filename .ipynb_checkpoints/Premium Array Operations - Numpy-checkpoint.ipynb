{
 "cells": [
  {
   "cell_type": "code",
   "execution_count": 1,
   "id": "320431a7",
   "metadata": {},
   "outputs": [],
   "source": [
    "import numpy as np"
   ]
  },
  {
   "cell_type": "code",
   "execution_count": 2,
   "id": "75a2dc4a",
   "metadata": {},
   "outputs": [
    {
     "name": "stdout",
     "output_type": "stream",
     "text": [
      "[ 0  1  2  3  4  5  6  7  8  9 10 11 12 13 14]\n"
     ]
    }
   ],
   "source": [
    "A = np.arange(15)\n",
    "print(A)"
   ]
  },
  {
   "cell_type": "code",
   "execution_count": 3,
   "id": "6d8b7112",
   "metadata": {},
   "outputs": [
    {
     "name": "stdout",
     "output_type": "stream",
     "text": [
      "[5 6 7 8 9]\n"
     ]
    }
   ],
   "source": [
    "B = np.arange(5,10)\n",
    "print(B)"
   ]
  },
  {
   "cell_type": "code",
   "execution_count": 4,
   "id": "aac0ba07",
   "metadata": {},
   "outputs": [],
   "source": [
    "C = np.arange(5,10,2)"
   ]
  },
  {
   "cell_type": "code",
   "execution_count": 5,
   "id": "a0b9f972",
   "metadata": {},
   "outputs": [
    {
     "name": "stdout",
     "output_type": "stream",
     "text": [
      "[5 7 9]\n"
     ]
    }
   ],
   "source": [
    "print(C)"
   ]
  },
  {
   "cell_type": "code",
   "execution_count": 7,
   "id": "25f48d95",
   "metadata": {},
   "outputs": [
    {
     "name": "stdout",
     "output_type": "stream",
     "text": [
      "[0.         1.         1.41421356 1.73205081 2.         2.23606798\n",
      " 2.44948974 2.64575131 2.82842712 3.         3.16227766 3.31662479\n",
      " 3.46410162 3.60555128 3.74165739]\n"
     ]
    }
   ],
   "source": [
    "#Function of Numpy arrays - sqrt()\n",
    "D = np.sqrt(A)\n",
    "print(D)"
   ]
  },
  {
   "cell_type": "code",
   "execution_count": 8,
   "id": "e16748a4",
   "metadata": {},
   "outputs": [
    {
     "name": "stdout",
     "output_type": "stream",
     "text": [
      "[1.00000000e+00 2.71828183e+00 7.38905610e+00 2.00855369e+01\n",
      " 5.45981500e+01 1.48413159e+02 4.03428793e+02 1.09663316e+03\n",
      " 2.98095799e+03 8.10308393e+03 2.20264658e+04 5.98741417e+04\n",
      " 1.62754791e+05 4.42413392e+05 1.20260428e+06]\n"
     ]
    }
   ],
   "source": [
    "#Function of Numoy arrays - exp()\n",
    "E = np.exp(A)\n",
    "print(E)"
   ]
  },
  {
   "cell_type": "code",
   "execution_count": 9,
   "id": "42c2ff02",
   "metadata": {},
   "outputs": [
    {
     "name": "stdout",
     "output_type": "stream",
     "text": [
      "[-1.264613    0.33842023  0.90626717  0.91750598  0.13351922]\n"
     ]
    }
   ],
   "source": [
    "#Function of Numpy Arrays - random()\n",
    "F = np.random.randn(5)\n",
    "print(F)"
   ]
  },
  {
   "cell_type": "code",
   "execution_count": 10,
   "id": "3c59924e",
   "metadata": {},
   "outputs": [
    {
     "name": "stdout",
     "output_type": "stream",
     "text": [
      "[[ 0.49296549 -0.35943435  0.7591404   0.26451591  1.87698619]\n",
      " [-0.13751774  1.0782197   0.15375461 -0.12211765  1.37953894]\n",
      " [-1.1797135   0.74180551  0.67882007 -2.31731742 -0.6420309 ]\n",
      " [ 1.01441052  1.38280803  0.16497011 -1.04089073 -0.20534694]\n",
      " [ 0.36112598  0.77237579  1.22288316 -0.10166103 -1.38353275]]\n"
     ]
    }
   ],
   "source": [
    "G = np.random.randn(5,5)\n",
    "print(G)"
   ]
  },
  {
   "cell_type": "code",
   "execution_count": 13,
   "id": "bae52643",
   "metadata": {},
   "outputs": [
    {
     "name": "stdout",
     "output_type": "stream",
     "text": [
      "[ 0  1  2  3  4  5  6  7  8  9 10 11 12 13 14]\n",
      "[0.         1.         1.41421356 1.73205081 2.         2.23606798\n",
      " 2.44948974 2.64575131 2.82842712 3.         3.16227766 3.31662479\n",
      " 3.46410162 3.60555128 3.74165739]\n",
      "[ 0.          2.          3.41421356  4.73205081  6.          7.23606798\n",
      "  8.44948974  9.64575131 10.82842712 12.         13.16227766 14.31662479\n",
      " 15.46410162 16.60555128 17.74165739]\n"
     ]
    }
   ],
   "source": [
    "#Function of Numpy Arrays - add()\n",
    "print(A)\n",
    "print(D)\n",
    "H = np.add(A,D)\n",
    "print(H)"
   ]
  },
  {
   "cell_type": "code",
   "execution_count": 16,
   "id": "c5c54d78",
   "metadata": {},
   "outputs": [
    {
     "name": "stdout",
     "output_type": "stream",
     "text": [
      "[ 1  6  8 10]\n"
     ]
    }
   ],
   "source": [
    "#Function of Numpy Arrays - maximum\n",
    "A = np.array([1,5,7,10])\n",
    "B = np.array([0,6,8,9])\n",
    "I = np.maximum(A,B)\n",
    "print(I)"
   ]
  },
  {
   "cell_type": "code",
   "execution_count": null,
   "id": "26968bba",
   "metadata": {},
   "outputs": [],
   "source": [
    "#Numpy Additional documentation - numpy.org, docs.scipy.org"
   ]
  }
 ],
 "metadata": {
  "kernelspec": {
   "display_name": "Python 3 (ipykernel)",
   "language": "python",
   "name": "python3"
  },
  "language_info": {
   "codemirror_mode": {
    "name": "ipython",
    "version": 3
   },
   "file_extension": ".py",
   "mimetype": "text/x-python",
   "name": "python",
   "nbconvert_exporter": "python",
   "pygments_lexer": "ipython3",
   "version": "3.9.12"
  }
 },
 "nbformat": 4,
 "nbformat_minor": 5
}
