{
 "cells": [
  {
   "cell_type": "code",
   "execution_count": 1,
   "id": "f79f7789",
   "metadata": {},
   "outputs": [
    {
     "name": "stdout",
     "output_type": "stream",
     "text": [
      "Requirement already satisfied: xlrd in /home/sparrow/anaconda3/lib/python3.9/site-packages (2.0.1)\n",
      "Requirement already satisfied: openpyxl in /home/sparrow/anaconda3/lib/python3.9/site-packages (3.0.9)\n",
      "Requirement already satisfied: et-xmlfile in /home/sparrow/anaconda3/lib/python3.9/site-packages (from openpyxl) (1.1.0)\n"
     ]
    }
   ],
   "source": [
    "#Python libraries to install for reading excel files\n",
    "!pip install xlrd\n",
    "!pip install openpyxl"
   ]
  },
  {
   "cell_type": "code",
   "execution_count": 1,
   "id": "2f550a00",
   "metadata": {},
   "outputs": [],
   "source": [
    "import numpy as np\n",
    "import pandas as pd"
   ]
  },
  {
   "cell_type": "code",
   "execution_count": 2,
   "id": "2f580b1c",
   "metadata": {},
   "outputs": [],
   "source": [
    "excelfile = pd.ExcelFile('cab_company.xlsx')"
   ]
  },
  {
   "cell_type": "code",
   "execution_count": 3,
   "id": "43df7f7c",
   "metadata": {},
   "outputs": [],
   "source": [
    "df = excelfile.parse('cab_company')"
   ]
  },
  {
   "cell_type": "code",
   "execution_count": 4,
   "id": "7324e27d",
   "metadata": {},
   "outputs": [
    {
     "name": "stdout",
     "output_type": "stream",
     "text": [
      "  Company  Fleetsize  Revenue  Expenses  Profit\n",
      "0    Uber       6000      100        80      20\n",
      "1    Lyft      50000       90        50      40\n",
      "2    Grab      40000       80        60      20\n",
      "3   Gojek      30000       70        40      30\n",
      "4     Ola      20000       60        55       5\n"
     ]
    }
   ],
   "source": [
    "print(df)"
   ]
  },
  {
   "cell_type": "code",
   "execution_count": null,
   "id": "985e14a0",
   "metadata": {},
   "outputs": [],
   "source": []
  }
 ],
 "metadata": {
  "kernelspec": {
   "display_name": "Python 3 (ipykernel)",
   "language": "python",
   "name": "python3"
  },
  "language_info": {
   "codemirror_mode": {
    "name": "ipython",
    "version": 3
   },
   "file_extension": ".py",
   "mimetype": "text/x-python",
   "name": "python",
   "nbconvert_exporter": "python",
   "pygments_lexer": "ipython3",
   "version": "3.9.12"
  }
 },
 "nbformat": 4,
 "nbformat_minor": 5
}
