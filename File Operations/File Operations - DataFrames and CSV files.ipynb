{
 "cells": [
  {
   "cell_type": "code",
   "execution_count": 2,
   "id": "23f7d556",
   "metadata": {},
   "outputs": [],
   "source": [
    "import numpy as np\n",
    "import pandas as pd\n",
    "from pandas import Series, DataFrame"
   ]
  },
  {
   "cell_type": "code",
   "execution_count": 10,
   "id": "b823ae61",
   "metadata": {},
   "outputs": [
    {
     "name": "stdout",
     "output_type": "stream",
     "text": [
      "    Uber   6000  100  80  20\n",
      "0   Lyft  50000   90  50  40\n",
      "1   Grab  40000   80  60  20\n",
      "2  Gojek  30000   70  40  30\n",
      "3    Ola  20000   60  55   5\n"
     ]
    }
   ],
   "source": [
    "#Introduction to CSV files\n",
    "#Importing csv files\n",
    "df1 = pd.read_csv('cab_company.csv')\n",
    "print(df1)"
   ]
  },
  {
   "cell_type": "code",
   "execution_count": 11,
   "id": "d55de555",
   "metadata": {},
   "outputs": [
    {
     "name": "stdout",
     "output_type": "stream",
     "text": [
      "       0      1    2   3   4\n",
      "0   Uber   6000  100  80  20\n",
      "1   Lyft  50000   90  50  40\n",
      "2   Grab  40000   80  60  20\n",
      "3  Gojek  30000   70  40  30\n",
      "4    Ola  20000   60  55   5\n"
     ]
    }
   ],
   "source": [
    "df1 = pd.read_csv('cab_company.csv', header=None)\n",
    "print(df1)"
   ]
  },
  {
   "cell_type": "code",
   "execution_count": 12,
   "id": "80a6bfb2",
   "metadata": {},
   "outputs": [
    {
     "name": "stdout",
     "output_type": "stream",
     "text": [
      "       0      1    2   3   4\n",
      "0   Uber   6000  100  80  20\n",
      "1   Lyft  50000   90  50  40\n",
      "2   Grab  40000   80  60  20\n",
      "3  Gojek  30000   70  40  30\n",
      "4    Ola  20000   60  55   5\n"
     ]
    }
   ],
   "source": [
    "#Read_table() function\n",
    "df3 = pd.read_table(\"cab_company.csv\", sep=',', header=None)\n",
    "print(df3)"
   ]
  },
  {
   "cell_type": "code",
   "execution_count": 15,
   "id": "61370574",
   "metadata": {},
   "outputs": [
    {
     "name": "stdout",
     "output_type": "stream",
     "text": [
      "      0      1    2   3   4\n",
      "0  Uber   6000  100  80  20\n",
      "1  Lyft  50000   90  50  40\n",
      "2  Grab  40000   80  60  20\n"
     ]
    }
   ],
   "source": [
    "#Importing partial rows\n",
    "df4 = pd.read_csv(\"cab_company.csv\",nrows=3, header=None)\n",
    "print(df4)"
   ]
  },
  {
   "cell_type": "code",
   "execution_count": 16,
   "id": "dc96b6cf",
   "metadata": {},
   "outputs": [],
   "source": [
    "#Dumping dataframe to csv file\n",
    "df3.to_csv('output_companies1.csv' , sep=',')"
   ]
  },
  {
   "cell_type": "code",
   "execution_count": 17,
   "id": "fe1f82f8",
   "metadata": {},
   "outputs": [],
   "source": [
    "df3.to_csv(\"output_companies2.txt\", sep='!')"
   ]
  },
  {
   "cell_type": "code",
   "execution_count": 18,
   "id": "ea60d175",
   "metadata": {},
   "outputs": [],
   "source": [
    "df3.to_csv('output_companies3.txt', columns=[0,1])"
   ]
  },
  {
   "cell_type": "code",
   "execution_count": null,
   "id": "df3da340",
   "metadata": {},
   "outputs": [],
   "source": []
  }
 ],
 "metadata": {
  "kernelspec": {
   "display_name": "Python 3 (ipykernel)",
   "language": "python",
   "name": "python3"
  },
  "language_info": {
   "codemirror_mode": {
    "name": "ipython",
    "version": 3
   },
   "file_extension": ".py",
   "mimetype": "text/x-python",
   "name": "python",
   "nbconvert_exporter": "python",
   "pygments_lexer": "ipython3",
   "version": "3.9.12"
  }
 },
 "nbformat": 4,
 "nbformat_minor": 5
}
