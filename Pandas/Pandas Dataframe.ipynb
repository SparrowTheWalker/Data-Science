{
 "cells": [
  {
   "cell_type": "code",
   "execution_count": 3,
   "id": "fc40c838",
   "metadata": {},
   "outputs": [],
   "source": [
    "import numpy as np\n",
    "import pandas as pd\n",
    "from pandas import Series, DataFrame"
   ]
  },
  {
   "cell_type": "code",
   "execution_count": 5,
   "id": "253a6be1",
   "metadata": {},
   "outputs": [
    {
     "name": "stdout",
     "output_type": "stream",
     "text": [
      "  First name    Last name   Age\n",
      "0       Tinu     Elejogun    14\n",
      "1     Javier       Zapata    28\n",
      "2       Lily    McGarrett    18\n",
      "3  Olatunkbo     Chijiaku    22\n",
      "4   Adrienne     Anthoula    22\n",
      "5     Axelia   Athanasios    22\n",
      "6  Jon-Kabat         Zinn    22\n",
      "7    Thabang        Mosoa    15\n",
      "8      Rhian        Ellis    12\n"
     ]
    }
   ],
   "source": [
    "#Create a Dataframe from clipboard\n",
    "age_df = pd.read_clipboard()\n",
    "print(age_df)"
   ]
  },
  {
   "cell_type": "code",
   "execution_count": 6,
   "id": "875e787c",
   "metadata": {},
   "outputs": [
    {
     "data": {
      "text/plain": [
       "Index(['First name ', 'Last name ', 'Age'], dtype='object')"
      ]
     },
     "execution_count": 6,
     "metadata": {},
     "output_type": "execute_result"
    }
   ],
   "source": [
    "#Display column names\n",
    "age_df.columns"
   ]
  },
  {
   "cell_type": "code",
   "execution_count": 7,
   "id": "7ca31ee7",
   "metadata": {},
   "outputs": [
    {
     "name": "stdout",
     "output_type": "stream",
     "text": [
      "  First name    Last name   Age\n",
      "0       Tinu     Elejogun    14\n",
      "1     Javier       Zapata    28\n",
      "2       Lily    McGarrett    18\n",
      "3  Olatunkbo     Chijiaku    22\n",
      "4   Adrienne     Anthoula    22\n",
      "5     Axelia   Athanasios    22\n",
      "6  Jon-Kabat         Zinn    22\n",
      "7    Thabang        Mosoa    15\n",
      "8      Rhian        Ellis    12\n"
     ]
    }
   ],
   "source": [
    "#Access one or more columns\n",
    "print(age_df)"
   ]
  },
  {
   "cell_type": "code",
   "execution_count": null,
   "id": "387ac91f",
   "metadata": {},
   "outputs": [],
   "source": []
  },
  {
   "cell_type": "code",
   "execution_count": 8,
   "id": "24e4d3d2",
   "metadata": {},
   "outputs": [
    {
     "data": {
      "text/html": [
       "<div>\n",
       "<style scoped>\n",
       "    .dataframe tbody tr th:only-of-type {\n",
       "        vertical-align: middle;\n",
       "    }\n",
       "\n",
       "    .dataframe tbody tr th {\n",
       "        vertical-align: top;\n",
       "    }\n",
       "\n",
       "    .dataframe thead th {\n",
       "        text-align: right;\n",
       "    }\n",
       "</style>\n",
       "<table border=\"1\" class=\"dataframe\">\n",
       "  <thead>\n",
       "    <tr style=\"text-align: right;\">\n",
       "      <th></th>\n",
       "      <th>First name</th>\n",
       "      <th>Age</th>\n",
       "    </tr>\n",
       "  </thead>\n",
       "  <tbody>\n",
       "    <tr>\n",
       "      <th>0</th>\n",
       "      <td>Tinu</td>\n",
       "      <td>14</td>\n",
       "    </tr>\n",
       "    <tr>\n",
       "      <th>1</th>\n",
       "      <td>Javier</td>\n",
       "      <td>28</td>\n",
       "    </tr>\n",
       "    <tr>\n",
       "      <th>2</th>\n",
       "      <td>Lily</td>\n",
       "      <td>18</td>\n",
       "    </tr>\n",
       "    <tr>\n",
       "      <th>3</th>\n",
       "      <td>Olatunkbo</td>\n",
       "      <td>22</td>\n",
       "    </tr>\n",
       "    <tr>\n",
       "      <th>4</th>\n",
       "      <td>Adrienne</td>\n",
       "      <td>22</td>\n",
       "    </tr>\n",
       "    <tr>\n",
       "      <th>5</th>\n",
       "      <td>Axelia</td>\n",
       "      <td>22</td>\n",
       "    </tr>\n",
       "    <tr>\n",
       "      <th>6</th>\n",
       "      <td>Jon-Kabat</td>\n",
       "      <td>22</td>\n",
       "    </tr>\n",
       "    <tr>\n",
       "      <th>7</th>\n",
       "      <td>Thabang</td>\n",
       "      <td>15</td>\n",
       "    </tr>\n",
       "    <tr>\n",
       "      <th>8</th>\n",
       "      <td>Rhian</td>\n",
       "      <td>12</td>\n",
       "    </tr>\n",
       "  </tbody>\n",
       "</table>\n",
       "</div>"
      ],
      "text/plain": [
       "  First name   Age\n",
       "0       Tinu    14\n",
       "1     Javier    28\n",
       "2       Lily    18\n",
       "3  Olatunkbo    22\n",
       "4   Adrienne    22\n",
       "5     Axelia    22\n",
       "6  Jon-Kabat    22\n",
       "7    Thabang    15\n",
       "8      Rhian    12"
      ]
     },
     "execution_count": 8,
     "metadata": {},
     "output_type": "execute_result"
    }
   ],
   "source": [
    "age_df[['First name ', 'Age']]"
   ]
  },
  {
   "cell_type": "code",
   "execution_count": 64,
   "id": "c4c1e907",
   "metadata": {},
   "outputs": [
    {
     "name": "stdout",
     "output_type": "stream",
     "text": [
      "  First name    Last name   Age  rank\n",
      "0       Tinu     Elejogun    14   NaN\n",
      "1     Javier       Zapata    28   NaN\n",
      "2       Lily    McGarrett    18   NaN\n",
      "3  Olatunkbo     Chijiaku    22   NaN\n",
      "4   Adrienne     Anthoula    22   NaN\n",
      "5     Axelia   Athanasios    22   NaN\n",
      "6  Jon-Kabat         Zinn    22   NaN\n",
      "7    Thabang        Mosoa    15   NaN\n",
      "8      Rhian        Ellis    12   NaN\n"
     ]
    }
   ],
   "source": [
    "#WHat is a NAN value - assigning a null value to a column if it has nothing\n",
    "age_df['rank'] = np.nan\n",
    "print(age_df)\n"
   ]
  },
  {
   "cell_type": "code",
   "execution_count": 9,
   "id": "cbd8526b",
   "metadata": {},
   "outputs": [
    {
     "data": {
      "text/html": [
       "<div>\n",
       "<style scoped>\n",
       "    .dataframe tbody tr th:only-of-type {\n",
       "        vertical-align: middle;\n",
       "    }\n",
       "\n",
       "    .dataframe tbody tr th {\n",
       "        vertical-align: top;\n",
       "    }\n",
       "\n",
       "    .dataframe thead th {\n",
       "        text-align: right;\n",
       "    }\n",
       "</style>\n",
       "<table border=\"1\" class=\"dataframe\">\n",
       "  <thead>\n",
       "    <tr style=\"text-align: right;\">\n",
       "      <th></th>\n",
       "      <th>First name</th>\n",
       "      <th>Last name</th>\n",
       "      <th>Age</th>\n",
       "    </tr>\n",
       "  </thead>\n",
       "  <tbody>\n",
       "    <tr>\n",
       "      <th>0</th>\n",
       "      <td>Tinu</td>\n",
       "      <td>Elejogun</td>\n",
       "      <td>14</td>\n",
       "    </tr>\n",
       "    <tr>\n",
       "      <th>1</th>\n",
       "      <td>Javier</td>\n",
       "      <td>Zapata</td>\n",
       "      <td>28</td>\n",
       "    </tr>\n",
       "    <tr>\n",
       "      <th>2</th>\n",
       "      <td>Lily</td>\n",
       "      <td>McGarrett</td>\n",
       "      <td>18</td>\n",
       "    </tr>\n",
       "    <tr>\n",
       "      <th>3</th>\n",
       "      <td>Olatunkbo</td>\n",
       "      <td>Chijiaku</td>\n",
       "      <td>22</td>\n",
       "    </tr>\n",
       "    <tr>\n",
       "      <th>4</th>\n",
       "      <td>Adrienne</td>\n",
       "      <td>Anthoula</td>\n",
       "      <td>22</td>\n",
       "    </tr>\n",
       "  </tbody>\n",
       "</table>\n",
       "</div>"
      ],
      "text/plain": [
       "  First name   Last name   Age\n",
       "0       Tinu    Elejogun    14\n",
       "1     Javier      Zapata    28\n",
       "2       Lily   McGarrett    18\n",
       "3  Olatunkbo    Chijiaku    22\n",
       "4   Adrienne    Anthoula    22"
      ]
     },
     "execution_count": 9,
     "metadata": {},
     "output_type": "execute_result"
    }
   ],
   "source": [
    "#Using head and tail functions\n",
    "age_df.head()"
   ]
  },
  {
   "cell_type": "code",
   "execution_count": 10,
   "id": "1618f5f1",
   "metadata": {},
   "outputs": [
    {
     "data": {
      "text/html": [
       "<div>\n",
       "<style scoped>\n",
       "    .dataframe tbody tr th:only-of-type {\n",
       "        vertical-align: middle;\n",
       "    }\n",
       "\n",
       "    .dataframe tbody tr th {\n",
       "        vertical-align: top;\n",
       "    }\n",
       "\n",
       "    .dataframe thead th {\n",
       "        text-align: right;\n",
       "    }\n",
       "</style>\n",
       "<table border=\"1\" class=\"dataframe\">\n",
       "  <thead>\n",
       "    <tr style=\"text-align: right;\">\n",
       "      <th></th>\n",
       "      <th>First name</th>\n",
       "      <th>Last name</th>\n",
       "      <th>Age</th>\n",
       "    </tr>\n",
       "  </thead>\n",
       "  <tbody>\n",
       "    <tr>\n",
       "      <th>4</th>\n",
       "      <td>Adrienne</td>\n",
       "      <td>Anthoula</td>\n",
       "      <td>22</td>\n",
       "    </tr>\n",
       "    <tr>\n",
       "      <th>5</th>\n",
       "      <td>Axelia</td>\n",
       "      <td>Athanasios</td>\n",
       "      <td>22</td>\n",
       "    </tr>\n",
       "    <tr>\n",
       "      <th>6</th>\n",
       "      <td>Jon-Kabat</td>\n",
       "      <td>Zinn</td>\n",
       "      <td>22</td>\n",
       "    </tr>\n",
       "    <tr>\n",
       "      <th>7</th>\n",
       "      <td>Thabang</td>\n",
       "      <td>Mosoa</td>\n",
       "      <td>15</td>\n",
       "    </tr>\n",
       "    <tr>\n",
       "      <th>8</th>\n",
       "      <td>Rhian</td>\n",
       "      <td>Ellis</td>\n",
       "      <td>12</td>\n",
       "    </tr>\n",
       "  </tbody>\n",
       "</table>\n",
       "</div>"
      ],
      "text/plain": [
       "  First name    Last name   Age\n",
       "4   Adrienne     Anthoula    22\n",
       "5     Axelia   Athanasios    22\n",
       "6  Jon-Kabat         Zinn    22\n",
       "7    Thabang        Mosoa    15\n",
       "8      Rhian        Ellis    12"
      ]
     },
     "execution_count": 10,
     "metadata": {},
     "output_type": "execute_result"
    }
   ],
   "source": [
    "age_df.tail()"
   ]
  },
  {
   "cell_type": "code",
   "execution_count": 12,
   "id": "7f6eac9b",
   "metadata": {},
   "outputs": [
    {
     "name": "stdout",
     "output_type": "stream",
     "text": [
      "[0 1 2 3 4 5 6 7 8]\n"
     ]
    }
   ],
   "source": [
    "#Assign values to a dataframe using 1. numpy 2. Series\n",
    "array_1 = np.arange(9)\n",
    "print(array_1)"
   ]
  },
  {
   "cell_type": "code",
   "execution_count": 13,
   "id": "3356623f",
   "metadata": {},
   "outputs": [],
   "source": [
    "age_df['rank']=array_1"
   ]
  },
  {
   "cell_type": "code",
   "execution_count": 14,
   "id": "d5bedcd6",
   "metadata": {},
   "outputs": [
    {
     "name": "stdout",
     "output_type": "stream",
     "text": [
      "  First name    Last name   Age  rank\n",
      "0       Tinu     Elejogun    14     0\n",
      "1     Javier       Zapata    28     1\n",
      "2       Lily    McGarrett    18     2\n",
      "3  Olatunkbo     Chijiaku    22     3\n",
      "4   Adrienne     Anthoula    22     4\n",
      "5     Axelia   Athanasios    22     5\n",
      "6  Jon-Kabat         Zinn    22     6\n",
      "7    Thabang        Mosoa    15     7\n",
      "8      Rhian        Ellis    12     8\n"
     ]
    }
   ],
   "source": [
    "print(age_df)"
   ]
  },
  {
   "cell_type": "code",
   "execution_count": 15,
   "id": "2ad4f0e2",
   "metadata": {},
   "outputs": [],
   "source": [
    "#Using series\n",
    "newrank_series = Series([10,11,12],index=[3,5,6])\n",
    "age_df['rank'] = newrank_series"
   ]
  },
  {
   "cell_type": "code",
   "execution_count": 16,
   "id": "d512b1f8",
   "metadata": {},
   "outputs": [
    {
     "name": "stdout",
     "output_type": "stream",
     "text": [
      "  First name    Last name   Age  rank\n",
      "0       Tinu     Elejogun    14   NaN\n",
      "1     Javier       Zapata    28   NaN\n",
      "2       Lily    McGarrett    18   NaN\n",
      "3  Olatunkbo     Chijiaku    22  10.0\n",
      "4   Adrienne     Anthoula    22   NaN\n",
      "5     Axelia   Athanasios    22  11.0\n",
      "6  Jon-Kabat         Zinn    22  12.0\n",
      "7    Thabang        Mosoa    15   NaN\n",
      "8      Rhian        Ellis    12   NaN\n"
     ]
    }
   ],
   "source": [
    "print(age_df)"
   ]
  },
  {
   "cell_type": "code",
   "execution_count": 18,
   "id": "8bb69bf0",
   "metadata": {},
   "outputs": [],
   "source": [
    "#Delete a column\n",
    "del(age_df['Last name '])"
   ]
  },
  {
   "cell_type": "code",
   "execution_count": 19,
   "id": "a31042ff",
   "metadata": {},
   "outputs": [
    {
     "name": "stdout",
     "output_type": "stream",
     "text": [
      "  First name   Age  rank\n",
      "0       Tinu    14   NaN\n",
      "1     Javier    28   NaN\n",
      "2       Lily    18   NaN\n",
      "3  Olatunkbo    22  10.0\n",
      "4   Adrienne    22   NaN\n",
      "5     Axelia    22  11.0\n",
      "6  Jon-Kabat    22  12.0\n",
      "7    Thabang    15   NaN\n",
      "8      Rhian    12   NaN\n"
     ]
    }
   ],
   "source": [
    "print(age_df)"
   ]
  },
  {
   "cell_type": "code",
   "execution_count": 21,
   "id": "cbbd52f6",
   "metadata": {},
   "outputs": [
    {
     "name": "stdout",
     "output_type": "stream",
     "text": [
      "{'company': ['Nestle', 'PG'], 'profit': [1000, 500]}\n"
     ]
    }
   ],
   "source": [
    "#Convert a dictionary into a dataframe\n",
    "sample_dict = {\n",
    "    'company': ['Nestle' , 'PG'],\n",
    "    'profit' : [1000,500]\n",
    "}\n",
    "print(sample_dict)"
   ]
  },
  {
   "cell_type": "code",
   "execution_count": 22,
   "id": "b3b2ee3c",
   "metadata": {},
   "outputs": [
    {
     "name": "stdout",
     "output_type": "stream",
     "text": [
      "  company  profit\n",
      "0  Nestle    1000\n",
      "1      PG     500\n"
     ]
    }
   ],
   "source": [
    "sample_df = DataFrame(sample_dict)\n",
    "print(sample_df)"
   ]
  },
  {
   "cell_type": "code",
   "execution_count": null,
   "id": "c5f103a7",
   "metadata": {},
   "outputs": [],
   "source": []
  }
 ],
 "metadata": {
  "kernelspec": {
   "display_name": "Python 3 (ipykernel)",
   "language": "python",
   "name": "python3"
  },
  "language_info": {
   "codemirror_mode": {
    "name": "ipython",
    "version": 3
   },
   "file_extension": ".py",
   "mimetype": "text/x-python",
   "name": "python",
   "nbconvert_exporter": "python",
   "pygments_lexer": "ipython3",
   "version": "3.9.12"
  }
 },
 "nbformat": 4,
 "nbformat_minor": 5
}
