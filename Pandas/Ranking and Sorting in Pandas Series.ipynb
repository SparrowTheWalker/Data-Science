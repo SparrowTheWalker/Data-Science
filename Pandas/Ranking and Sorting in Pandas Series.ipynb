{
 "cells": [
  {
   "cell_type": "code",
   "execution_count": 1,
   "id": "f3804055",
   "metadata": {},
   "outputs": [],
   "source": [
    "import numpy as np\n",
    "import pandas as pd\n",
    "from pandas import Series, DataFrame"
   ]
  },
  {
   "cell_type": "code",
   "execution_count": 6,
   "id": "872dc27b",
   "metadata": {},
   "outputs": [
    {
     "name": "stdout",
     "output_type": "stream",
     "text": [
      "a    700\n",
      "c    600\n",
      "b    650\n",
      "dtype: int64\n"
     ]
    }
   ],
   "source": [
    "ser1 = Series([700,600,650], index=['a','c','b'])\n",
    "print(ser1)"
   ]
  },
  {
   "cell_type": "code",
   "execution_count": 7,
   "id": "d30b94e0",
   "metadata": {},
   "outputs": [
    {
     "data": {
      "text/plain": [
       "a    700\n",
       "b    650\n",
       "c    600\n",
       "dtype: int64"
      ]
     },
     "execution_count": 7,
     "metadata": {},
     "output_type": "execute_result"
    }
   ],
   "source": [
    "#Sorting by Index\n",
    "ser1.sort_index()"
   ]
  },
  {
   "cell_type": "code",
   "execution_count": 8,
   "id": "cef4f64a",
   "metadata": {},
   "outputs": [
    {
     "data": {
      "text/plain": [
       "c    600\n",
       "b    650\n",
       "a    700\n",
       "dtype: int64"
      ]
     },
     "execution_count": 8,
     "metadata": {},
     "output_type": "execute_result"
    }
   ],
   "source": [
    "#Sorting by Values\n",
    "ser1.sort_values()"
   ]
  },
  {
   "cell_type": "code",
   "execution_count": 9,
   "id": "5a676495",
   "metadata": {},
   "outputs": [
    {
     "name": "stdout",
     "output_type": "stream",
     "text": [
      "0    10\n",
      "1    15\n",
      "2    14\n",
      "3    12\n",
      "4     6\n",
      "5     7\n",
      "dtype: int64\n"
     ]
    }
   ],
   "source": [
    "#Ranking of a series\n",
    "ser2 = Series([10,15,14,12,6,7])\n",
    "print(ser2)"
   ]
  },
  {
   "cell_type": "code",
   "execution_count": 11,
   "id": "8463e7bf",
   "metadata": {},
   "outputs": [
    {
     "data": {
      "text/plain": [
       "<bound method NDFrame.rank of 0    10\n",
       "1    15\n",
       "2    14\n",
       "3    12\n",
       "4     6\n",
       "5     7\n",
       "dtype: int64>"
      ]
     },
     "execution_count": 11,
     "metadata": {},
     "output_type": "execute_result"
    }
   ],
   "source": [
    "ser2.rank"
   ]
  },
  {
   "cell_type": "code",
   "execution_count": 12,
   "id": "b53404a1",
   "metadata": {},
   "outputs": [
    {
     "data": {
      "text/plain": [
       "0    3.0\n",
       "1    6.0\n",
       "2    5.0\n",
       "3    4.0\n",
       "4    1.0\n",
       "5    2.0\n",
       "dtype: float64"
      ]
     },
     "execution_count": 12,
     "metadata": {},
     "output_type": "execute_result"
    }
   ],
   "source": [
    "ser2.rank()"
   ]
  },
  {
   "cell_type": "code",
   "execution_count": 15,
   "id": "9db3b930",
   "metadata": {},
   "outputs": [
    {
     "name": "stdout",
     "output_type": "stream",
     "text": [
      "4    1.0\n",
      "5    2.0\n",
      "0    3.0\n",
      "3    4.0\n",
      "2    5.0\n",
      "1    6.0\n",
      "dtype: float64\n",
      "4    1.0\n",
      "5    2.0\n",
      "0    3.0\n",
      "3    4.0\n",
      "2    5.0\n",
      "1    6.0\n",
      "dtype: float64\n"
     ]
    }
   ],
   "source": [
    "#Interesting fact about sorting and Ranking\n",
    "print(ser2.rank())\n",
    "ser2 = ser2.sort_values()\n",
    "print(ser2.rank())"
   ]
  },
  {
   "cell_type": "code",
   "execution_count": null,
   "id": "e8ecffe6",
   "metadata": {},
   "outputs": [],
   "source": []
  }
 ],
 "metadata": {
  "kernelspec": {
   "display_name": "Python 3 (ipykernel)",
   "language": "python",
   "name": "python3"
  },
  "language_info": {
   "codemirror_mode": {
    "name": "ipython",
    "version": 3
   },
   "file_extension": ".py",
   "mimetype": "text/x-python",
   "name": "python",
   "nbconvert_exporter": "python",
   "pygments_lexer": "ipython3",
   "version": "3.9.12"
  }
 },
 "nbformat": 4,
 "nbformat_minor": 5
}
