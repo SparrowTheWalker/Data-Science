{
 "cells": [
  {
   "cell_type": "code",
   "execution_count": 1,
   "id": "25e333a2",
   "metadata": {},
   "outputs": [],
   "source": [
    "import numpy as np\n",
    "import pandas as pd\n",
    "from pandas import Series, DataFrame"
   ]
  },
  {
   "cell_type": "code",
   "execution_count": 3,
   "id": "96de13c9",
   "metadata": {},
   "outputs": [
    {
     "name": "stdout",
     "output_type": "stream",
     "text": [
      "a         BMW\n",
      "b        Audi\n",
      "c    Mercedes\n",
      "dtype: object\n"
     ]
    }
   ],
   "source": [
    "#Dropping values from Series\n",
    "cars = Series(['BMW','Audi','Mercedes'],index=['a','b','c'])\n",
    "print(cars)"
   ]
  },
  {
   "cell_type": "code",
   "execution_count": 4,
   "id": "cde29e5f",
   "metadata": {},
   "outputs": [
    {
     "name": "stdout",
     "output_type": "stream",
     "text": [
      "b        Audi\n",
      "c    Mercedes\n",
      "dtype: object\n"
     ]
    }
   ],
   "source": [
    "cars = cars.drop('a')\n",
    "print(cars)"
   ]
  },
  {
   "cell_type": "code",
   "execution_count": 5,
   "id": "ec18b83c",
   "metadata": {},
   "outputs": [
    {
     "name": "stdout",
     "output_type": "stream",
     "text": [
      "             test1     test2     test3\n",
      "BMW       0.828545 -0.239007  0.527466\n",
      "Audi     -1.072630 -0.011622 -1.385258\n",
      "Mercedes  0.108895  0.573841  0.218326\n"
     ]
    }
   ],
   "source": [
    "#Dropping rows and columns from a DataFrame\n",
    "cars_df = DataFrame(np.random.randn(9).reshape(3,3), index=['BMW','Audi','Mercedes'], columns=['test1','test2','test3'])\n",
    "print(cars_df)"
   ]
  },
  {
   "cell_type": "code",
   "execution_count": 6,
   "id": "9f11a9f9",
   "metadata": {},
   "outputs": [
    {
     "name": "stdout",
     "output_type": "stream",
     "text": [
      "             test1     test2     test3\n",
      "Audi     -1.072630 -0.011622 -1.385258\n",
      "Mercedes  0.108895  0.573841  0.218326\n"
     ]
    }
   ],
   "source": [
    "cars_df = cars_df.drop(['BMW'])\n",
    "print(cars_df)"
   ]
  },
  {
   "cell_type": "code",
   "execution_count": 12,
   "id": "bd8a809d",
   "metadata": {},
   "outputs": [
    {
     "name": "stdout",
     "output_type": "stream",
     "text": [
      "             test2     test3\n",
      "Audi     -0.011622 -1.385258\n",
      "Mercedes  0.573841  0.218326\n"
     ]
    }
   ],
   "source": [
    "cars_df = cars_df.drop(['test1'], axis=1)\n",
    "print(cars_df)"
   ]
  },
  {
   "cell_type": "code",
   "execution_count": null,
   "id": "a6b735bb",
   "metadata": {},
   "outputs": [],
   "source": []
  }
 ],
 "metadata": {
  "kernelspec": {
   "display_name": "Python 3 (ipykernel)",
   "language": "python",
   "name": "python3"
  },
  "language_info": {
   "codemirror_mode": {
    "name": "ipython",
    "version": 3
   },
   "file_extension": ".py",
   "mimetype": "text/x-python",
   "name": "python",
   "nbconvert_exporter": "python",
   "pygments_lexer": "ipython3",
   "version": "3.9.12"
  }
 },
 "nbformat": 4,
 "nbformat_minor": 5
}
