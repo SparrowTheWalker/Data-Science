{
 "cells": [
  {
   "cell_type": "code",
   "execution_count": 2,
   "id": "d091b057",
   "metadata": {},
   "outputs": [],
   "source": [
    "import numpy as np\n",
    "import pandas as pd\n",
    "from pandas import Series, DataFrame"
   ]
  },
  {
   "cell_type": "code",
   "execution_count": 3,
   "id": "78795cca",
   "metadata": {},
   "outputs": [
    {
     "name": "stdout",
     "output_type": "stream",
     "text": [
      "a    1\n",
      "b    2\n",
      "c    3\n",
      "d    4\n",
      "dtype: int64\n"
     ]
    }
   ],
   "source": [
    "s1 = Series([1,2,3,4], index=['a','b','c','d'])\n",
    "print(s1)"
   ]
  },
  {
   "cell_type": "code",
   "execution_count": 4,
   "id": "6c3d5fe9",
   "metadata": {},
   "outputs": [
    {
     "name": "stdout",
     "output_type": "stream",
     "text": [
      "a    1.0\n",
      "b    2.0\n",
      "c    3.0\n",
      "d    4.0\n",
      "e    NaN\n",
      "f    NaN\n",
      "dtype: float64\n"
     ]
    }
   ],
   "source": [
    "s1 = s1.reindex(['a','b','c','d','e','f'])\n",
    "print(s1)"
   ]
  },
  {
   "cell_type": "code",
   "execution_count": 5,
   "id": "d1871220",
   "metadata": {},
   "outputs": [
    {
     "name": "stdout",
     "output_type": "stream",
     "text": [
      "a      1.0\n",
      "b      2.0\n",
      "c      3.0\n",
      "d      4.0\n",
      "e      NaN\n",
      "f      NaN\n",
      "g    100.0\n",
      "dtype: float64\n"
     ]
    }
   ],
   "source": [
    "#Reindexing in Series - reindex() method with full value\n",
    "s1 = s1.reindex(['a','b','c','d','e','f','g'],fill_value=100)\n",
    "print(s1)"
   ]
  },
  {
   "cell_type": "code",
   "execution_count": 6,
   "id": "f8ce9be1",
   "metadata": {},
   "outputs": [
    {
     "name": "stdout",
     "output_type": "stream",
     "text": [
      "0        Audi\n",
      "4    Mercedes\n",
      "8         BMW\n",
      "dtype: object\n"
     ]
    }
   ],
   "source": [
    " #Reindexing in Series - forwardfill\n",
    "cars = Series(['Audi','Mercedes','BMW'], index=[0,4,8])\n",
    "print(cars)"
   ]
  },
  {
   "cell_type": "code",
   "execution_count": 7,
   "id": "d2cf9bba",
   "metadata": {},
   "outputs": [
    {
     "name": "stdout",
     "output_type": "stream",
     "text": [
      "0         Audi\n",
      "1         Audi\n",
      "2         Audi\n",
      "3         Audi\n",
      "4     Mercedes\n",
      "5     Mercedes\n",
      "6     Mercedes\n",
      "7     Mercedes\n",
      "8          BMW\n",
      "9          BMW\n",
      "10         BMW\n",
      "11         BMW\n",
      "dtype: object\n"
     ]
    }
   ],
   "source": [
    "new_index = range(12)\n",
    "cars = cars.reindex(new_index, method='ffill')\n",
    "print(cars)"
   ]
  },
  {
   "cell_type": "code",
   "execution_count": 9,
   "id": "06ace698",
   "metadata": {},
   "outputs": [
    {
     "name": "stdout",
     "output_type": "stream",
     "text": [
      "         c1        c2        c3        c4        c5\n",
      "a  0.673845  0.464064  0.429351  0.230330  0.713451\n",
      "b  0.057270  0.516326  0.277930  0.667751  0.783070\n",
      "c  0.757712  0.694543  0.256321  0.223781  0.158588\n",
      "d  0.274960  0.108118  0.148969  0.851487  0.706419\n",
      "e  0.201693  0.694460  0.428630  0.042447  0.769744\n"
     ]
    }
   ],
   "source": [
    "#Reindexing in Dataframe\n",
    "df1 = DataFrame(np.random.rand(25).reshape(5,5),index=['a','b','c','d','e'], columns=['c1','c2','c3','c4','c5'])\n",
    "print(df1)"
   ]
  },
  {
   "cell_type": "code",
   "execution_count": 11,
   "id": "3bdd4595",
   "metadata": {},
   "outputs": [
    {
     "name": "stdout",
     "output_type": "stream",
     "text": [
      "         c1        c2        c3        c4        c5  c6\n",
      "a  0.673845  0.464064  0.429351  0.230330  0.713451 NaN\n",
      "b  0.057270  0.516326  0.277930  0.667751  0.783070 NaN\n",
      "c  0.757712  0.694543  0.256321  0.223781  0.158588 NaN\n",
      "d  0.274960  0.108118  0.148969  0.851487  0.706419 NaN\n",
      "e  0.201693  0.694460  0.428630  0.042447  0.769744 NaN\n",
      "f       NaN       NaN       NaN       NaN       NaN NaN\n"
     ]
    }
   ],
   "source": [
    "df1 = df1.reindex(index=['a','b','c','d','e','f'], columns=['c1','c2','c3','c4','c5','c6'])\n",
    "print(df1)"
   ]
  },
  {
   "cell_type": "code",
   "execution_count": 15,
   "id": "52d9b34f",
   "metadata": {},
   "outputs": [
    {
     "name": "stdout",
     "output_type": "stream",
     "text": [
      "         c1        c2        c3        c4   c5   c6    f\n",
      "a  0.673845  0.464064  0.429351  0.230330    5    5  5.0\n",
      "b  0.057270  0.516326  0.277930  0.667751    6    6  6.0\n",
      "c  0.757712  0.694543  0.256321  0.223781    7    7  7.0\n",
      "d  0.274960  0.108118  0.148969  0.851487    8    8  8.0\n",
      "e  0.201693  0.694460  0.428630  0.042447    9    9  9.0\n",
      "f       NaN       NaN       NaN       NaN  204  204  NaN\n"
     ]
    }
   ],
   "source": [
    "more_additions = Series([5,6,7,8,9,204], index=['a','b','c','d','e','f'])\n",
    "df1['c5'] = more_additions\n",
    "print(df1)"
   ]
  },
  {
   "cell_type": "code",
   "execution_count": 17,
   "id": "151f2347",
   "metadata": {},
   "outputs": [],
   "source": [
    "del(df1['c6'])"
   ]
  },
  {
   "cell_type": "code",
   "execution_count": 18,
   "id": "4110f938",
   "metadata": {},
   "outputs": [
    {
     "name": "stdout",
     "output_type": "stream",
     "text": [
      "         c1        c2        c3        c4   c5    f\n",
      "a  0.673845  0.464064  0.429351  0.230330    5  5.0\n",
      "b  0.057270  0.516326  0.277930  0.667751    6  6.0\n",
      "c  0.757712  0.694543  0.256321  0.223781    7  7.0\n",
      "d  0.274960  0.108118  0.148969  0.851487    8  8.0\n",
      "e  0.201693  0.694460  0.428630  0.042447    9  9.0\n",
      "f       NaN       NaN       NaN       NaN  204  NaN\n"
     ]
    }
   ],
   "source": [
    "print(df1)"
   ]
  },
  {
   "cell_type": "code",
   "execution_count": 19,
   "id": "087c7768",
   "metadata": {},
   "outputs": [],
   "source": [
    "del(df1['f'])"
   ]
  },
  {
   "cell_type": "code",
   "execution_count": 20,
   "id": "394f0979",
   "metadata": {},
   "outputs": [
    {
     "name": "stdout",
     "output_type": "stream",
     "text": [
      "         c1        c2        c3        c4   c5\n",
      "a  0.673845  0.464064  0.429351  0.230330    5\n",
      "b  0.057270  0.516326  0.277930  0.667751    6\n",
      "c  0.757712  0.694543  0.256321  0.223781    7\n",
      "d  0.274960  0.108118  0.148969  0.851487    8\n",
      "e  0.201693  0.694460  0.428630  0.042447    9\n",
      "f       NaN       NaN       NaN       NaN  204\n"
     ]
    }
   ],
   "source": [
    "print(df1)"
   ]
  },
  {
   "cell_type": "code",
   "execution_count": null,
   "id": "d74114a1",
   "metadata": {},
   "outputs": [],
   "source": []
  }
 ],
 "metadata": {
  "kernelspec": {
   "display_name": "Python 3 (ipykernel)",
   "language": "python",
   "name": "python3"
  },
  "language_info": {
   "codemirror_mode": {
    "name": "ipython",
    "version": 3
   },
   "file_extension": ".py",
   "mimetype": "text/x-python",
   "name": "python",
   "nbconvert_exporter": "python",
   "pygments_lexer": "ipython3",
   "version": "3.9.12"
  }
 },
 "nbformat": 4,
 "nbformat_minor": 5
}
