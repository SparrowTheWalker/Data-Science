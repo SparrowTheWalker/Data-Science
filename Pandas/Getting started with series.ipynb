{
 "cells": [
  {
   "cell_type": "code",
   "execution_count": 1,
   "id": "5f5e1254",
   "metadata": {},
   "outputs": [],
   "source": [
    "import numpy as np"
   ]
  },
  {
   "cell_type": "code",
   "execution_count": 2,
   "id": "cbc6d3f5",
   "metadata": {},
   "outputs": [
    {
     "name": "stdout",
     "output_type": "stream",
     "text": [
      "Requirement already satisfied: pandas in /home/sparrow/anaconda3/lib/python3.9/site-packages (1.4.2)\n",
      "Requirement already satisfied: python-dateutil>=2.8.1 in /home/sparrow/anaconda3/lib/python3.9/site-packages (from pandas) (2.8.2)\n",
      "Requirement already satisfied: pytz>=2020.1 in /home/sparrow/anaconda3/lib/python3.9/site-packages (from pandas) (2021.3)\n",
      "Requirement already satisfied: numpy>=1.18.5 in /home/sparrow/anaconda3/lib/python3.9/site-packages (from pandas) (1.21.5)\n",
      "Requirement already satisfied: six>=1.5 in /home/sparrow/anaconda3/lib/python3.9/site-packages (from python-dateutil>=2.8.1->pandas) (1.16.0)\n"
     ]
    }
   ],
   "source": [
    "!pip install pandas"
   ]
  },
  {
   "cell_type": "code",
   "execution_count": 5,
   "id": "804780e1",
   "metadata": {},
   "outputs": [],
   "source": [
    "#What is pandas\n",
    "#What is series\n",
    "import pandas as pd\n",
    "from pandas import Series"
   ]
  },
  {
   "cell_type": "code",
   "execution_count": 6,
   "id": "2567e1bf",
   "metadata": {},
   "outputs": [
    {
     "name": "stdout",
     "output_type": "stream",
     "text": [
      "0     5\n",
      "1    10\n",
      "2    15\n",
      "3    20\n",
      "dtype: int64\n"
     ]
    }
   ],
   "source": [
    "#Create a simple series variable\n",
    "s1 = Series([5,10,15,20])\n",
    "print(s1)"
   ]
  },
  {
   "cell_type": "code",
   "execution_count": 9,
   "id": "9acd5150",
   "metadata": {},
   "outputs": [
    {
     "name": "stdout",
     "output_type": "stream",
     "text": [
      "[ 5 10 15 20]\n"
     ]
    }
   ],
   "source": [
    "print(s1.values)"
   ]
  },
  {
   "cell_type": "code",
   "execution_count": 11,
   "id": "26c6bfb8",
   "metadata": {},
   "outputs": [
    {
     "name": "stdout",
     "output_type": "stream",
     "text": [
      "[0 1 2 3]\n"
     ]
    }
   ],
   "source": [
    "print(s1.index.values)"
   ]
  },
  {
   "cell_type": "code",
   "execution_count": 12,
   "id": "4dc00f76",
   "metadata": {},
   "outputs": [
    {
     "name": "stdout",
     "output_type": "stream",
     "text": [
      "[400 300 200 100]\n"
     ]
    }
   ],
   "source": [
    "#Create a series from numpy\n",
    "revenue_array = np.array([400,300,200,100])\n",
    "print(revenue_array)"
   ]
  },
  {
   "cell_type": "code",
   "execution_count": 13,
   "id": "33f49508",
   "metadata": {},
   "outputs": [
    {
     "name": "stdout",
     "output_type": "stream",
     "text": [
      "0    400\n",
      "1    300\n",
      "2    200\n",
      "3    100\n",
      "dtype: int64\n"
     ]
    }
   ],
   "source": [
    "revenue_series = Series(revenue_array)\n",
    "print(revenue_series)"
   ]
  },
  {
   "cell_type": "code",
   "execution_count": 16,
   "id": "4b72abe4",
   "metadata": {},
   "outputs": [
    {
     "name": "stdout",
     "output_type": "stream",
     "text": [
      "uber     400\n",
      "ola      300\n",
      "jumia    200\n",
      "bolt     100\n",
      "dtype: int64\n"
     ]
    }
   ],
   "source": [
    "#Create series with custom indexes\n",
    "revenue = Series(revenue_array, index=['uber','ola','jumia','bolt'])\n",
    "print(revenue)"
   ]
  },
  {
   "cell_type": "raw",
   "id": "c52cb4df",
   "metadata": {},
   "source": [
    "revenue['ola']"
   ]
  },
  {
   "cell_type": "code",
   "execution_count": 17,
   "id": "dd96d9f1",
   "metadata": {},
   "outputs": [
    {
     "data": {
      "text/plain": [
       "300"
      ]
     },
     "execution_count": 17,
     "metadata": {},
     "output_type": "execute_result"
    }
   ],
   "source": [
    "revenue['ola']"
   ]
  },
  {
   "cell_type": "code",
   "execution_count": 18,
   "id": "d7f7e4b3",
   "metadata": {},
   "outputs": [
    {
     "name": "stdout",
     "output_type": "stream",
     "text": [
      "uber    400\n",
      "ola     300\n",
      "dtype: int64\n"
     ]
    }
   ],
   "source": [
    "#Filter a Series based on condition\n",
    "print(revenue[revenue>250])"
   ]
  },
  {
   "cell_type": "code",
   "execution_count": 19,
   "id": "fbcfaac9",
   "metadata": {},
   "outputs": [
    {
     "name": "stdout",
     "output_type": "stream",
     "text": [
      "True\n"
     ]
    }
   ],
   "source": [
    "#Check whether an element is a series\n",
    "print('ola' in revenue)"
   ]
  },
  {
   "cell_type": "code",
   "execution_count": 20,
   "id": "33223ca8",
   "metadata": {},
   "outputs": [
    {
     "name": "stdout",
     "output_type": "stream",
     "text": [
      "False\n"
     ]
    }
   ],
   "source": [
    "print('watu' in revenue)"
   ]
  },
  {
   "cell_type": "code",
   "execution_count": 22,
   "id": "4ece402a",
   "metadata": {},
   "outputs": [
    {
     "name": "stdout",
     "output_type": "stream",
     "text": [
      "{'uber': 400, 'ola': 300, 'jumia': 200, 'bolt': 100}\n"
     ]
    }
   ],
   "source": [
    "#To_dict function\n",
    "revenue_dict = revenue.to_dict()\n",
    "print(revenue_dict)"
   ]
  },
  {
   "cell_type": "code",
   "execution_count": 23,
   "id": "a1071f29",
   "metadata": {},
   "outputs": [
    {
     "name": "stdout",
     "output_type": "stream",
     "text": [
      "uber     400\n",
      "ola      300\n",
      "jumia    200\n",
      "bolt     100\n",
      "dtype: int64\n",
      "uber     800\n",
      "ola      600\n",
      "jumia    400\n",
      "bolt     200\n",
      "dtype: int64\n"
     ]
    }
   ],
   "source": [
    "#Addition of two series\n",
    "print(revenue)\n",
    "print(revenue + revenue)"
   ]
  },
  {
   "cell_type": "code",
   "execution_count": 24,
   "id": "a99d0da9",
   "metadata": {},
   "outputs": [
    {
     "name": "stdout",
     "output_type": "stream",
     "text": [
      "Company Name\n",
      "uber     400\n",
      "ola      300\n",
      "jumia    200\n",
      "bolt     100\n",
      "Name: Company - Revenue, dtype: int64\n"
     ]
    }
   ],
   "source": [
    "#Assign names in a series\n",
    "revenue.name = \"Company - Revenue\"\n",
    "revenue.index.name = \"Company Name\"\n",
    "print(revenue)"
   ]
  },
  {
   "cell_type": "code",
   "execution_count": null,
   "id": "de63cd08",
   "metadata": {},
   "outputs": [],
   "source": []
  }
 ],
 "metadata": {
  "kernelspec": {
   "display_name": "Python 3 (ipykernel)",
   "language": "python",
   "name": "python3"
  },
  "language_info": {
   "codemirror_mode": {
    "name": "ipython",
    "version": 3
   },
   "file_extension": ".py",
   "mimetype": "text/x-python",
   "name": "python",
   "nbconvert_exporter": "python",
   "pygments_lexer": "ipython3",
   "version": "3.9.12"
  }
 },
 "nbformat": 4,
 "nbformat_minor": 5
}
